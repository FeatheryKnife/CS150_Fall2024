{
 "cells": [
  {
   "cell_type": "markdown",
   "id": "8ca4c0ad-08bd-43ce-916b-21ca54869fe9",
   "metadata": {},
   "source": [
    "# PA2 - Basic Program and Submitting to GitHub\n",
    "## Truman Gilbert - Fall 2024"
   ]
  },
  {
   "cell_type": "markdown",
   "id": "37eb0751-687d-43de-817f-c2f48b23afdd",
   "metadata": {},
   "source": [
    "### Task 1: Personal Information"
   ]
  },
  {
   "cell_type": "code",
   "execution_count": 7,
   "id": "e8385fde-d7a3-4571-807b-f62dc9400545",
   "metadata": {},
   "outputs": [],
   "source": [
    "name = \"Truman D. Gilbert\"\n",
    "age = 16\n",
    "height = 73\n",
    "color = \"blue\""
   ]
  },
  {
   "cell_type": "code",
   "execution_count": 11,
   "id": "0093feaf-bf19-4cc5-90a4-9382e18bfb82",
   "metadata": {},
   "outputs": [
    {
     "name": "stdout",
     "output_type": "stream",
     "text": [
      "Hello, my name is Truman D. Gilbert, and I am 16 years old. My favorite color is blue and I am 73 inches tall :)\n"
     ]
    }
   ],
   "source": [
    "#Probably not best practice to have all the code in one line but oh well.... here we are\n",
    "print(\"Hello, my name is \"+name+\", and I am \"+str(age)+\" years old. My favorite color is \"+color+\" and I am \"+str(height)+\" inches tall :)\")"
   ]
  },
  {
   "cell_type": "markdown",
   "id": "5dd62e6c-6657-40d6-a37b-e7b1ecdf0e58",
   "metadata": {},
   "source": [
    "### Task 2: Temperature Conversion"
   ]
  },
  {
   "cell_type": "code",
   "execution_count": 31,
   "id": "46a446a8-7e70-4da1-84f2-4b1d7829fc29",
   "metadata": {},
   "outputs": [
    {
     "name": "stdin",
     "output_type": "stream",
     "text": [
      " 100\n"
     ]
    },
    {
     "name": "stdout",
     "output_type": "stream",
     "text": [
      "The temperature is 100.0°C, which is the equivalent to 212.0°F\n"
     ]
    }
   ],
   "source": [
    "#Initial temp\n",
    "celsius_temp = float(input(\"Temp in celsius: \"))\n",
    "#Calculated new temp\n",
    "fehrenheit_temp = (celsius_temp*(9/5))+32\n",
    "#Output\n",
    "print(\"The temperature is \"+str(celsius_temp)+\"°C, which is the equivalent to \"+str(fehrenheit_temp)+\"°F\")"
   ]
  },
  {
   "cell_type": "markdown",
   "id": "e36afcaf-18c4-4fde-b76f-fa49751a06ec",
   "metadata": {},
   "source": [
    "### Task 3: Simple Calculator"
   ]
  },
  {
   "cell_type": "code",
   "execution_count": 34,
   "id": "a24c8071-af92-4150-945d-eae12a6451a3",
   "metadata": {},
   "outputs": [
    {
     "name": "stdin",
     "output_type": "stream",
     "text": [
      " 10\n",
      " 5\n"
     ]
    },
    {
     "name": "stdout",
     "output_type": "stream",
     "text": [
      "15.0\n",
      "5.0\n",
      "50.0\n",
      "2.0\n"
     ]
    }
   ],
   "source": [
    "#Vars\n",
    "num1 = float(input())\n",
    "num2 = float(input())\n",
    "#Math and print statements\n",
    "print(num1+num2)\n",
    "print(num1-num2)\n",
    "print(num1*num2)\n",
    "print(num1/num2)"
   ]
  },
  {
   "cell_type": "markdown",
   "id": "b3a007b7-1fc1-4356-9bb4-ddc116ddae31",
   "metadata": {},
   "source": [
    "### Task 4: String Manipulation"
   ]
  },
  {
   "cell_type": "code",
   "execution_count": 47,
   "id": "2bddadfc-8d0b-43c9-8ea9-c63137dfbf9b",
   "metadata": {},
   "outputs": [
    {
     "name": "stdout",
     "output_type": "stream",
     "text": [
      "46\n",
      "     TO BE OR NOT TO BE,\tTHAT IS THE QUESTION.\n",
      "     to be or not to be,\tthat is the question.\n",
      "To be or not to be,\tthat is the question.\n",
      "['To', 'be', 'or', 'not', 'to', 'be,', 'that', 'is', 'the', 'question.']\n"
     ]
    }
   ],
   "source": [
    "quote = \"     To be or not to be,\\tthat is the question.\"\n",
    "print(len(quote))\n",
    "print(quote.upper())\n",
    "print(quote.lower())\n",
    "print(quote.strip())\n",
    "print(quote.split())"
   ]
  },
  {
   "cell_type": "markdown",
   "id": "b0f8a18a-e4d8-4add-82db-1af97ca03a64",
   "metadata": {},
   "source": [
    "### Task 5: User Input and Operations"
   ]
  },
  {
   "cell_type": "code",
   "execution_count": 2,
   "id": "4854ec20-eed2-4593-b787-0285c737ae05",
   "metadata": {},
   "outputs": [
    {
     "name": "stdin",
     "output_type": "stream",
     "text": [
      "Length of leg 1:  42\n",
      "Length of leg 2:  21\n"
     ]
    },
    {
     "name": "stdout",
     "output_type": "stream",
     "text": [
      "The hypotenuse of your triangle is 46.96 units. Where 46.96 is the computed hypotenuse, rounded to the nearest one-hundredth\n"
     ]
    }
   ],
   "source": [
    "#Initial leg vars\n",
    "leg1 = float(input(\"Length of leg 1: \"))\n",
    "leg2 = float(input(\"Length of leg 2: \"))\n",
    "#Math for leg 3\n",
    "leg3 = ((leg1*leg1)+(leg2*leg2))**0.5\n",
    "#Output\n",
    "print(\"The hypotenuse of your triangle is \"+str(round(leg3,2))+\" units. Where \"+str(round(leg3,2))+\" is the computed hypotenuse, rounded to the nearest one-hundredth\")"
   ]
  },
  {
   "cell_type": "code",
   "execution_count": null,
   "id": "5a1b581e-854d-4ad1-93a0-95114a4450fc",
   "metadata": {},
   "outputs": [],
   "source": []
  }
 ],
 "metadata": {
  "kernelspec": {
   "display_name": "Python 3 (ipykernel)",
   "language": "python",
   "name": "python3"
  },
  "language_info": {
   "codemirror_mode": {
    "name": "ipython",
    "version": 3
   },
   "file_extension": ".py",
   "mimetype": "text/x-python",
   "name": "python",
   "nbconvert_exporter": "python",
   "pygments_lexer": "ipython3",
   "version": "3.12.4"
  }
 },
 "nbformat": 4,
 "nbformat_minor": 5
}
