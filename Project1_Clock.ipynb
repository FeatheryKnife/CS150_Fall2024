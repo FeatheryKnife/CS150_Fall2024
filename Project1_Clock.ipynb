{
 "cells": [
  {
   "cell_type": "code",
   "execution_count": null,
   "id": "c01c592a-968c-4f02-98f4-aa80a06ccdcf",
   "metadata": {},
   "outputs": [
    {
     "data": {
      "application/vnd.jupyter.widget-view+json": {
       "model_id": "b601f025d2a042febb4d2ddc35ef1f5e",
       "version_major": 2,
       "version_minor": 0
      },
      "text/plain": [
       "Output()"
      ]
     },
     "metadata": {},
     "output_type": "display_data"
    }
   ],
   "source": [
    "from datetime import datetime\n",
    "import time\n",
    "from rich.panel import Panel\n",
    "from rich.live import Live\n",
    "\n",
    "# List of month names\n",
    "months = [\"January\", \"February\", \"March\", \"April\", \"May\", \"June\", \"July\", \"August\", \"September\", \"October\", \"November\", \"December\"]\n",
    "\n",
    "with Live(refresh_per_second=1) as live:  # Updates once per second\n",
    "    while True:\n",
    "        # Get the current time and format it to HH:MM:SS\n",
    "        current_time = datetime.now().strftime('%H:%M:%S')\n",
    "        \n",
    "        # Get the current date and format it to Day Month Year\n",
    "        current_date = datetime.now()\n",
    "        day = current_date.strftime('%d')\n",
    "        month = months[current_date.month - 1]  # Translate month num to month name\n",
    "        year = current_date.strftime('%Y')\n",
    "        \n",
    "        # Create a formatted date string\n",
    "        date_string = f\"{day} {month} {year}\"\n",
    "\n",
    "        # Combine time and date in one string\n",
    "        combined_string = f\"[bold green]Time: {current_time}   [bold green]Date: {date_string}\"\n",
    "\n",
    "        # Create a panel with both time and date, and set its width based on the length of the combined text\n",
    "        panel = Panel(combined_string, border_style=\"red\", width=len(combined_string))\n",
    "        \n",
    "        # Update the live display with the new panel\n",
    "        live.update(panel)\n",
    "        \n",
    "        # Wait for 0.1 second because we ran into a issue where if we slept for 1 second, every once in a while it \n",
    "        #would skip a second and not refresh becuase it doesnt sleep for the exact same amount of time everytime\n",
    "        time.sleep(0.1)"
   ]
  },
  {
   "cell_type": "code",
   "execution_count": null,
   "id": "c8a0a52c-1676-4f79-985c-91f26912a6c8",
   "metadata": {},
   "outputs": [],
   "source": []
  }
 ],
 "metadata": {
  "kernelspec": {
   "display_name": "Python 3 (ipykernel)",
   "language": "python",
   "name": "python3"
  },
  "language_info": {
   "codemirror_mode": {
    "name": "ipython",
    "version": 3
   },
   "file_extension": ".py",
   "mimetype": "text/x-python",
   "name": "python",
   "nbconvert_exporter": "python",
   "pygments_lexer": "ipython3",
   "version": "3.12.4"
  }
 },
 "nbformat": 4,
 "nbformat_minor": 5
}
