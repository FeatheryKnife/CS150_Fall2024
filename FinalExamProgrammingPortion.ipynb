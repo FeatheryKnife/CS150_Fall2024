{
 "cells": [
  {
   "cell_type": "markdown",
   "id": "4dad1e94-3706-410f-b3d5-4ed22d779551",
   "metadata": {},
   "source": [
    "Problem 1: You are to write function **game_summary(team1score,team2score)**, which is to take as input the scores for two teams who have competed in a game and _prints_ the following information about the game:\n",
    "1. Who won (Should be \"Team 1 wins\" if team1score > team2score, \"Team 2 wins\" if team1score < team2score, or \"Tie\" if the scores are equal.\n",
    "2. Score differential (difference between the two scores, must be positive)\n",
    "3. Cumulative Score (combined score of the two teams)\n",
    "4. Whether or not either or both teams were shut out (a team is shut out if it scores 0 points)\n",
    "\n",
    "Ex 1: game_summary(17, 22) should print the following: <br> _Team2 wins_<br> _Score Differential of 5_<br> _Cumulative Score of 39_ <br> _No teams were shut out._ <br>\n",
    "\n",
    "Ex 2: game_summary(0, 0) should print the following: <br> _Tie_<br> _Score Differential of 0_<br> _Cumulative Score of 0_ <br> _Both teams were shut out._\n"
   ]
  },
  {
   "cell_type": "code",
   "execution_count": 11,
   "id": "a70db339-5d59-4393-a686-450e79791671",
   "metadata": {},
   "outputs": [
    {
     "name": "stdout",
     "output_type": "stream",
     "text": [
      "Team 2 wins\n",
      "Score Differential of 5\n",
      "Cumulative Score of 39\n",
      "No teams were shut out.\n",
      "\n",
      "Tie\n",
      "Score Differential of 0\n",
      "Cumulative Score of 0\n",
      "Both teams were shut out.\n",
      "\n"
     ]
    }
   ],
   "source": [
    "def game_summary(team1score, team2score):\n",
    "    #determine and print winning team\n",
    "    if team1score > team2score:\n",
    "        print(\"Team 1 wins\")\n",
    "    elif team1score < team2score:\n",
    "        print(\"Team 2 wins\")\n",
    "    else:\n",
    "        print(\"Tie\")\n",
    "\n",
    "    #print score diff and cumulative score\n",
    "    score_diff = abs(team1score - team2score)\n",
    "    print(f\"Score Differential of {score_diff}\")\n",
    "\n",
    "    cumulative_score = team1score + team2score\n",
    "    print(f\"Cumulative Score of {cumulative_score}\")\n",
    "\n",
    "    #print if either or both teams were \"shut out\"\n",
    "    if team1score == 0 and team2score == 0:\n",
    "        print(\"Both teams were shut out.\\n\")\n",
    "    elif team1score == 0 or team2score == 0:\n",
    "        print(\"One team was shut out.\\n\")\n",
    "    else:\n",
    "        print(\"No teams were shut out.\\n\")\n",
    "\n",
    "#Examples\n",
    "game_summary(17, 22)\n",
    "game_summary(0, 0)\n"
   ]
  },
  {
   "cell_type": "markdown",
   "id": "a65e086b-cb74-4040-893f-f69c905fa520",
   "metadata": {},
   "source": [
    "Problem 2: You are to write code to do the following (Note: you _can_ use a function here, but it's not necessary to do so):<br>\n",
    "Take as keyboard input _up to 7_ strings from a user (the user can enter \"Q\" or similar to stop early) and print the following:\n",
    "1. The total sum of characters _across all of the strings_\n",
    "2. The shortest of the strings\n",
    "3. The longest of the strings\n",
    "4. The number of times the string \"Hello\" appears among the ones that are entered. \n",
    "<br> <br> Ex: Assume the following strings are entered from the keyboard:\n",
    "<br>_Please input up to 7 strings (\"Q\" to stop early): Hello_\n",
    "<br>_Please input up to 7 strings (\"Q\" to stop early): Investments_\n",
    "<br>_Please input up to 7 strings (\"Q\" to stop early): Hello_\n",
    "<br>_Please input up to 7 strings (\"Q\" to stop early): Retirement_\n",
    "<br>_Please input up to 7 strings (\"Q\" to stop early): Gold_\n",
    "<br>_Please input up to 7 strings (\"Q\" to stop early): Q_\n",
    "<br><br> The output will be:\n",
    "<br> _A total of 35 characters were input_\n",
    "<br> _The shortest string is \"Gold\"_\n",
    "<br> _The longest string is \"Investments\"_\n",
    "<br> _\"Hello\" appears twice among the input strings._"
   ]
  },
  {
   "cell_type": "code",
   "execution_count": 29,
   "id": "57fccdf8-be50-41cf-93d6-b7e7f97002e2",
   "metadata": {},
   "outputs": [
    {
     "name": "stdout",
     "output_type": "stream",
     "text": [
      "Please input up to 7 strings (enter \"Q\" to stop early):\n"
     ]
    },
    {
     "name": "stdin",
     "output_type": "stream",
     "text": [
      " Hello\n",
      " Goodbye\n",
      " hello\n",
      " hi\n",
      " Hello\n",
      " SUPERCALAFRAGALISTEXPIALADOCIOUS\n",
      " sup\n"
     ]
    },
    {
     "name": "stdout",
     "output_type": "stream",
     "text": [
      "A total of 59 characters were input.\n",
      "The shortest string is \"hi\".\n",
      "The longest string is \"SUPERCALAFRAGALISTEXPIALADOCIOUS\".\n",
      "\"Hello\" appears 2 time(s) among the input strings.\n"
     ]
    }
   ],
   "source": [
    "strings = []\n",
    "total_characters = 0\n",
    "hello_count = 0\n",
    "\n",
    "print('Please input up to 7 strings (enter \"Q\" to stop early):')\n",
    "for _ in range(7):\n",
    "    user_input = input().strip()\n",
    "    if user_input.upper() == 'Q':\n",
    "        break\n",
    "    strings.append(user_input)\n",
    "    total_characters += len(user_input)\n",
    "    if user_input == \"Hello\":\n",
    "        hello_count += 1\n",
    "\n",
    "# find the shortest and longest strings\n",
    "# \"if strings:\" is a way to make sure the list is not empty so we don't run computations on an empty list\n",
    "# (which would happen if we entered \"Q\" immediately which would result in errors\n",
    "if strings:\n",
    "    shortest_string = min(strings, key=len)\n",
    "    longest_string = max(strings, key=len)\n",
    "\n",
    "    # print the results in formatted strings\n",
    "    print(f\"A total of {total_characters} characters were input.\")\n",
    "    print(f'The shortest string is \"{shortest_string}\".')\n",
    "    print(f'The longest string is \"{longest_string}\".')\n",
    "    print(f'\"Hello\" appears {hello_count} time(s) among the input strings.')\n",
    "# if the list \"strings\" is empty, and the user inputs \"Q\" immediately then it returns the following\n",
    "else:\n",
    "    print(\"No strings were input.\")\n"
   ]
  },
  {
   "cell_type": "code",
   "execution_count": null,
   "id": "31c5ac41-e107-4442-882d-04eef1bcf509",
   "metadata": {},
   "outputs": [],
   "source": []
  }
 ],
 "metadata": {
  "kernelspec": {
   "display_name": "Python 3 (ipykernel)",
   "language": "python",
   "name": "python3"
  },
  "language_info": {
   "codemirror_mode": {
    "name": "ipython",
    "version": 3
   },
   "file_extension": ".py",
   "mimetype": "text/x-python",
   "name": "python",
   "nbconvert_exporter": "python",
   "pygments_lexer": "ipython3",
   "version": "3.12.4"
  }
 },
 "nbformat": 4,
 "nbformat_minor": 5
}
