{
 "cells": [
  {
   "cell_type": "markdown",
   "metadata": {
    "slideshow": {
     "slide_type": "slide"
    }
   },
   "source": [
    "## What We Looked At Recently\n",
    "* We recently wrapped up our discussion of lists, with a major focus on **list comprehensions**.\n",
    "* We took a brief look at **tuples**, which are effectively _immutable_ collections akin to lists.\n",
    "* We evaluated **dictionaries**, which permit us to store and access collections using _keys_ instead of simple indices.\n"
   ]
  },
  {
   "cell_type": "markdown",
   "metadata": {
    "slideshow": {
     "slide_type": "slide"
    }
   },
   "source": [
    "## What We'll Look At In This Module\n",
    "* We will wrap up our discussion of major Python collections by addressing **sets**.\n",
    "* We'll formalize our understanding of **functions** in Python.\n",
    "* We'll explore the use of **standard libraries** and **imports** in Python."
   ]
  },
  {
   "cell_type": "markdown",
   "metadata": {
    "slideshow": {
     "slide_type": "slide"
    }
   },
   "source": [
    "# Sets\n",
    "* A set is an unordered collection of **unique values**. \n",
    "* The Set is itself **mutable** in that elements may be added or removed.\n",
    "* However, a set may only contain **immutable objects**, like _strings_, _ints_, and _floats_. \n",
    "* Unlike lists, sets do not support indexing and slicing. \n",
    "* As with dictionaryes, sets are represented using **curly braces** (i.e. `{` and `}`)"
   ]
  },
  {
   "cell_type": "code",
   "execution_count": 1,
   "metadata": {},
   "outputs": [
    {
     "name": "stdout",
     "output_type": "stream",
     "text": [
      "{1, 3, 5, 7, 9}\n",
      "{'yellow', 'red', 'blue', 'orange', 'green'}\n"
     ]
    }
   ],
   "source": [
    "odd_nums = {1, 3, 5 , 7, 9} #set of nums\n",
    "colors = {'red', 'orange', 'yellow', 'green', 'blue'} #set of strings\n",
    "print(odd_nums)\n",
    "print(colors)\n"
   ]
  },
  {
   "cell_type": "markdown",
   "metadata": {
    "slideshow": {
     "slide_type": "subslide"
    }
   },
   "source": [
    "### More Set Details\n",
    "* The `len` function returns the number of elements in a set. \n",
    "* As with dictionaries, sets are intended to **unordered** structures, so try to stear clear of order-dependent code.\n",
    "* Because sets only have unique values, duplicates are ignored -- this makes sets ideal for eliminating duplicates from other structures."
   ]
  },
  {
   "cell_type": "code",
   "execution_count": 2,
   "metadata": {},
   "outputs": [
    {
     "name": "stdout",
     "output_type": "stream",
     "text": [
      "{'blue', 'yellow', 'green', 'red'}\n"
     ]
    }
   ],
   "source": [
    "colors = {'blue','green','blue', 'red','yellow'} #the duplicate 'blue' is discarded\n",
    "print(colors) "
   ]
  },
  {
   "cell_type": "code",
   "execution_count": 5,
   "metadata": {},
   "outputs": [
    {
     "name": "stdout",
     "output_type": "stream",
     "text": [
      "4\n"
     ]
    }
   ],
   "source": [
    "print(len(colors))"
   ]
  },
  {
   "cell_type": "code",
   "execution_count": 6,
   "metadata": {},
   "outputs": [
    {
     "name": "stdout",
     "output_type": "stream",
     "text": [
      "BLUE YELLOW GREEN RED "
     ]
    }
   ],
   "source": [
    "for color in colors:\n",
    "    print(color.upper(), end=' ') "
   ]
  },
  {
   "cell_type": "markdown",
   "metadata": {
    "slideshow": {
     "slide_type": "subslide"
    }
   },
   "source": [
    "### Modifying and Combining Sets (I)\n",
    "* A single item can be added to a set using the `add` method.\n",
    "* `remove` will remove a single element from a set (no matter how many times it has been added!)\n",
    "* The `union` method will create a _new_ set consisting of the union of calling object and argument(s)\n",
    "* Likewise, `intersection` creates a new set consisting of objects that belong to all involved sets.\n",
    "\n"
   ]
  },
  {
   "cell_type": "code",
   "execution_count": 8,
   "metadata": {
    "slideshow": {
     "slide_type": "subslide"
    }
   },
   "outputs": [
    {
     "name": "stdout",
     "output_type": "stream",
     "text": [
      "{'blue', 'orange', 'yellow', 'red', 'green'}\n",
      "{'blue', 'orange', 'yellow', 'red', 'green'}\n"
     ]
    }
   ],
   "source": [
    "colors.add('orange')\n",
    "print(colors)\n",
    "colors.add('yellow')\n",
    "print(colors)"
   ]
  },
  {
   "cell_type": "code",
   "execution_count": 9,
   "metadata": {},
   "outputs": [
    {
     "name": "stdout",
     "output_type": "stream",
     "text": [
      "{'blue', 'orange', 'red', 'green'}\n"
     ]
    }
   ],
   "source": [
    "colors.remove('yellow')\n",
    "print(colors)\n"
   ]
  },
  {
   "cell_type": "code",
   "execution_count": 10,
   "metadata": {},
   "outputs": [
    {
     "ename": "KeyError",
     "evalue": "'grey'",
     "output_type": "error",
     "traceback": [
      "\u001b[1;31m---------------------------------------------------------------------------\u001b[0m",
      "\u001b[1;31mKeyError\u001b[0m                                  Traceback (most recent call last)",
      "Cell \u001b[1;32mIn[10], line 1\u001b[0m\n\u001b[1;32m----> 1\u001b[0m \u001b[43mcolors\u001b[49m\u001b[38;5;241;43m.\u001b[39;49m\u001b[43mremove\u001b[49m\u001b[43m(\u001b[49m\u001b[38;5;124;43m'\u001b[39;49m\u001b[38;5;124;43mgrey\u001b[39;49m\u001b[38;5;124;43m'\u001b[39;49m\u001b[43m)\u001b[49m\n",
      "\u001b[1;31mKeyError\u001b[0m: 'grey'"
     ]
    }
   ],
   "source": [
    "colors.remove('grey') #Will provide a key error if element isn't present"
   ]
  },
  {
   "cell_type": "code",
   "execution_count": 11,
   "metadata": {
    "slideshow": {
     "slide_type": "subslide"
    }
   },
   "outputs": [
    {
     "name": "stdout",
     "output_type": "stream",
     "text": [
      "{2, 3, 4, 6, 8, 9, 10, 12, 14, 15, 16, 18, 20}\n",
      "{18, 12, 6}\n"
     ]
    }
   ],
   "source": [
    "mult2 = {2, 4, 6, 8, 10, 12, 14, 16, 18, 20}\n",
    "mult3 = {3, 6, 9, 12, 15, 18}\n",
    "mult2or3=mult2.union(mult3) #All multiples of 2 or 3 (each number only included once!)\n",
    "mult2and3=mult2.intersection(mult3) #Intersection of multiples of 2 and 3\n",
    "print(mult2or3) \n",
    "print(mult2and3) \n"
   ]
  },
  {
   "cell_type": "code",
   "execution_count": null,
   "metadata": {},
   "outputs": [],
   "source": []
  },
  {
   "cell_type": "markdown",
   "metadata": {},
   "source": [
    "## Practice 1: Sets of Cities\n",
    "This is a _very basic_ exercise that lets you use sets of strings in a simple context.  You are to take the followings steps:\n",
    "1. Create a set of three places you have visited this year, and call it pl_thisyear\n",
    "2. Create a second set of three places you visited last year, and call it pl_lastyear\n",
    "3. Create a third set of places you plan on visiting next year, and call it pl_nextyear\n",
    "4. Using Python set operations and your previously defined sets, find the set of all places you have visited this year _or_ last year.\n",
    "5. Using Python set operations and your previously defined sets, find the set of all places you have visited this year _and_ plan on revisiting next year."
   ]
  },
  {
   "cell_type": "code",
   "execution_count": 13,
   "metadata": {},
   "outputs": [
    {
     "name": "stdout",
     "output_type": "stream",
     "text": [
      "{'lexington', 'lagrange', 'louisville', 'cincinati'}\n",
      "{'lagrange'}\n"
     ]
    }
   ],
   "source": [
    "pl_thisyear = {\"louisville\",\"lexington\",\"lagrange\"}\n",
    "pl_lastyear = {\"louisville\",\"lexington\",\"cincinati\"}\n",
    "pl_nextyear = {\"cincinati\",\"lagrange\",\"miami\"}\n",
    "print(pl_thisyear.union(pl_lastyear))\n",
    "print(pl_thisyear.intersection(pl_nextyear))"
   ]
  },
  {
   "cell_type": "markdown",
   "metadata": {
    "slideshow": {
     "slide_type": "subslide"
    }
   },
   "source": [
    "### The `set` function\n",
    "* The `set` function can be used to create a set out of any iterable expression.\n",
    "* As expected, any duplicates will be removed during processing.\n",
    "* An **empty set** requires you to use `set()` instead of {}, because the latter is notation for a dictionary.\n",
    "* You can verify this is the case using the built-in `type` function"
   ]
  },
  {
   "cell_type": "code",
   "execution_count": 14,
   "metadata": {},
   "outputs": [
    {
     "name": "stdout",
     "output_type": "stream",
     "text": [
      "[2, 3, 4, 5, 4, 5, 6, 7]\n",
      "{2, 3, 4, 5, 6, 7}\n",
      "[2, 3, 4, 5, 6, 7]\n"
     ]
    }
   ],
   "source": [
    "lofnumbers = list(range(2,6))\n",
    "lofnumbers.extend(list(range(4,8)))\n",
    "sofnumbers = set(lofnumbers)\n",
    "print(lofnumbers)\n",
    "print(sofnumbers)\n",
    "print(list(sofnumbers))\n"
   ]
  },
  {
   "cell_type": "code",
   "execution_count": 15,
   "metadata": {
    "slideshow": {
     "slide_type": "subslide"
    }
   },
   "outputs": [
    {
     "name": "stdout",
     "output_type": "stream",
     "text": [
      "<class 'dict'>\n",
      "<class 'set'>\n",
      "set()\n"
     ]
    }
   ],
   "source": [
    "eset_try1={}\n",
    "eset_try2=set()\n",
    "print(type(eset_try1))\n",
    "print(type(eset_try2))\n",
    "print(eset_try2)\n"
   ]
  },
  {
   "cell_type": "code",
   "execution_count": 16,
   "metadata": {},
   "outputs": [
    {
     "ename": "TypeError",
     "evalue": "unhashable type: 'list'",
     "output_type": "error",
     "traceback": [
      "\u001b[1;31m---------------------------------------------------------------------------\u001b[0m",
      "\u001b[1;31mTypeError\u001b[0m                                 Traceback (most recent call last)",
      "Cell \u001b[1;32mIn[16], line 3\u001b[0m\n\u001b[0;32m      1\u001b[0m \u001b[38;5;66;03m#Remember, we cannot add mutable collections (like lists) to sets\u001b[39;00m\n\u001b[0;32m      2\u001b[0m coords \u001b[38;5;241m=\u001b[39m \u001b[38;5;28mset\u001b[39m()\n\u001b[1;32m----> 3\u001b[0m \u001b[43mcoords\u001b[49m\u001b[38;5;241;43m.\u001b[39;49m\u001b[43madd\u001b[49m\u001b[43m(\u001b[49m\u001b[43m[\u001b[49m\u001b[38;5;241;43m1\u001b[39;49m\u001b[43m,\u001b[49m\u001b[43m \u001b[49m\u001b[38;5;241;43m10\u001b[39;49m\u001b[43m]\u001b[49m\u001b[43m)\u001b[49m\n\u001b[0;32m      4\u001b[0m coords\u001b[38;5;241m.\u001b[39madd([\u001b[38;5;241m5\u001b[39m, \u001b[38;5;241m2\u001b[39m])\n",
      "\u001b[1;31mTypeError\u001b[0m: unhashable type: 'list'"
     ]
    }
   ],
   "source": [
    "#Remember, we cannot add mutable collections (like lists) to sets\n",
    "coords = set()\n",
    "coords.add([1, 10])\n",
    "coords.add([5, 2])"
   ]
  },
  {
   "cell_type": "code",
   "execution_count": 17,
   "metadata": {},
   "outputs": [
    {
     "name": "stdout",
     "output_type": "stream",
     "text": [
      "{(1, 10), (5, 2)}\n"
     ]
    }
   ],
   "source": [
    "#Instead you must use immutable collections (like tuples) if collections are needed in sets\n",
    "coords = set()\n",
    "coords.add((1, 10))\n",
    "coords.add((5, 2))\n",
    "print(coords)"
   ]
  },
  {
   "cell_type": "markdown",
   "metadata": {},
   "source": [
    "### Eliminating Duplicates\n",
    "* The previous examples with multiples illustrate one of the simplest ways to eliminate duplicate elements from lists.\n",
    "* This same approach can be used to eliminate duplicate elements from other collection types as well."
   ]
  },
  {
   "cell_type": "code",
   "execution_count": 18,
   "metadata": {},
   "outputs": [
    {
     "name": "stdout",
     "output_type": "stream",
     "text": [
      "(1, 4, 8, 9, 12, 16)\n"
     ]
    }
   ],
   "source": [
    "mytuple = (1, 4, 9, 16, 4, 8, 12, 16)\n",
    "mytuple_noduplicates = tuple(set(mytuple))\n",
    "print(mytuple_noduplicates)"
   ]
  },
  {
   "cell_type": "markdown",
   "metadata": {
    "slideshow": {
     "slide_type": "subslide"
    }
   },
   "source": [
    "### Modifying and Combining Sets (II)\n",
    "* Set comprehensions can be defined using curly braces and the familiar format.\n",
    "* Method `discard` will remove its argument from a set if present, or ignore it if not present. \n",
    "* The `difference` between two sets is a set consisting of the elements in the left operand that are not in the right operand. \n",
    "* The `symmetric_difference` between two sets is a set consisting of the elements of both sets that are not in common with one another. "
   ]
  },
  {
   "cell_type": "code",
   "execution_count": 19,
   "metadata": {},
   "outputs": [
    {
     "name": "stdout",
     "output_type": "stream",
     "text": [
      "{8, 2, 10, 6}\n"
     ]
    }
   ],
   "source": [
    "#Set generation using comprehension\n",
    "counts = [1, 2, 2, 3, 5, 5, 6, 6, 7, 8, 9, 10, 10]\n",
    "evencountsunique = {item for item in counts if item % 2 == 0}\n",
    "print(evencountsunique)"
   ]
  },
  {
   "cell_type": "code",
   "execution_count": 20,
   "metadata": {},
   "outputs": [
    {
     "name": "stdout",
     "output_type": "stream",
     "text": [
      "{'yellow', 'green', 'red'}\n"
     ]
    }
   ],
   "source": [
    "colors = {'blue','green','red','yellow'}\n",
    "colors.discard('blue')\n",
    "colors.discard('purple') #This method call is ignored.\n",
    "print(colors)\n"
   ]
  },
  {
   "cell_type": "code",
   "execution_count": null,
   "metadata": {
    "slideshow": {
     "slide_type": "subslide"
    }
   },
   "outputs": [],
   "source": [
    "mult2 = {2, 4, 6, 8, 10, 12, 14, 16, 18, 20}\n",
    "mult3 = {3, 6, 9, 12, 15, 18}\n",
    "mult2not3 = mult2.difference(mult3)\n",
    "mult2comp3 = mult2.symmetric_difference(mult3)\n",
    "print(mult2not3)\n",
    "print(mult2comp3)"
   ]
  },
  {
   "cell_type": "markdown",
   "metadata": {
    "slideshow": {
     "slide_type": "slide"
    }
   },
   "source": [
    "### Searching in and Comparing Sets\n",
    "* As with lists and dictionaries, sets have many additional operations available to them.\n",
    "* We will restrict our evaluation to only three of these:\n",
    "    * `in` can be used to see if a set has a particular item.\n",
    "    * `==` holds true for sets that have _exactly_ the same elements, regardless of the order in which they were added.\n",
    "    * `<=` tests whether the set to the left is a **subset** of the one to its right: that is, all the elements in the left operand are in the right operand.\n"
   ]
  },
  {
   "cell_type": "code",
   "execution_count": 21,
   "metadata": {},
   "outputs": [
    {
     "name": "stdout",
     "output_type": "stream",
     "text": [
      "[{'blue', 'yellow', 'red'}, {'orange', 'purple', 'green'}, {'blue', 'yellow', 'red'}, {'yellow', 'purple', 'red', 'blue', 'orange', 'green'}]\n"
     ]
    }
   ],
   "source": [
    "cslist = [] #We will build a list of sets and apply operations to them\n",
    "cslist.append({'red','blue','yellow'}) #primary colors\n",
    "cslist.append({'purple','orange','green'}) #secondary colors\n",
    "cslist.append({'yellow','blue','red','yellow'}) #Same elements as #1, but in a different order + duplicate \n",
    "cslist.append(cslist[0].union(cslist[1])) #all primary and secondary colors \n",
    "print(cslist)"
   ]
  },
  {
   "cell_type": "code",
   "execution_count": 22,
   "metadata": {
    "slideshow": {
     "slide_type": "subslide"
    }
   },
   "outputs": [
    {
     "name": "stdout",
     "output_type": "stream",
     "text": [
      "'orange' in {'blue', 'yellow', 'red'}?  False\n",
      "'orange' in {'orange', 'purple', 'green'}?  True\n",
      "'orange' in {'blue', 'yellow', 'red'}?  False\n",
      "'orange' in {'yellow', 'purple', 'red', 'blue', 'orange', 'green'}?  True\n"
     ]
    }
   ],
   "source": [
    "#Check if string 'orange' is in each set\n",
    "for colset in cslist:\n",
    "    print(f'\\'orange\\' in {colset}? ', 'orange' in colset) \n"
   ]
  },
  {
   "cell_type": "code",
   "execution_count": 23,
   "metadata": {
    "slideshow": {
     "slide_type": "-"
    }
   },
   "outputs": [
    {
     "name": "stdout",
     "output_type": "stream",
     "text": [
      "{'blue', 'yellow', 'red'} == {'blue', 'yellow', 'red'}?  True\n",
      "{'blue', 'yellow', 'red'} == {'orange', 'purple', 'green'}?  False\n",
      "{'blue', 'yellow', 'red'} == {'blue', 'yellow', 'red'}?  True\n",
      "{'blue', 'yellow', 'red'} == {'yellow', 'purple', 'red', 'blue', 'orange', 'green'}?  False\n"
     ]
    }
   ],
   "source": [
    "#Determine if first set is equal to each set\n",
    "for colset in cslist:\n",
    "    print(f'{cslist[0]} == {colset}? ', cslist[0] == colset) "
   ]
  },
  {
   "cell_type": "code",
   "execution_count": 24,
   "metadata": {
    "scrolled": true,
    "slideshow": {
     "slide_type": "subslide"
    }
   },
   "outputs": [
    {
     "name": "stdout",
     "output_type": "stream",
     "text": [
      "{'blue', 'yellow', 'red'} <= {'blue', 'yellow', 'red'}?  True\n",
      "{'blue', 'yellow', 'red'} <= {'orange', 'purple', 'green'}?  False\n",
      "{'blue', 'yellow', 'red'} <= {'blue', 'yellow', 'red'}?  True\n",
      "{'blue', 'yellow', 'red'} <= {'yellow', 'purple', 'red', 'blue', 'orange', 'green'}?  True\n"
     ]
    }
   ],
   "source": [
    "#Determine if first set is a subset of each set.\n",
    "for colset in cslist:\n",
    "    print(f'{cslist[0]} <= {colset}? ', cslist[0] <= colset) "
   ]
  },
  {
   "cell_type": "markdown",
   "metadata": {},
   "source": [
    "## Practice 2: Sets and Input\n",
    "According to a recent YouGov poll, the seven most popular ice creams are as follows:<br>\n",
    "Vanilla, Chocolate, Cookies and Cream, Strawberry, Chocolate Chip, Butter Pecan, Cookie Dough\n",
    "<br>You are to take the following steps:\n",
    "1. Create set variable ic_favorites and store the strings above\n",
    "2. Read as input three favorite ice cream flavors from a user and store them into set variable ic_user\n",
    "3. For each ice cream flavor in ic_user, let the user know whether it is one of the favorite flavors.\n",
    "4. Lastly, let the user know if their set of flavors is a _subset_ of the favorite flavors set."
   ]
  },
  {
   "cell_type": "markdown",
   "metadata": {
    "slideshow": {
     "slide_type": "slide"
    }
   },
   "source": [
    "# Functions\n",
    "* A cornerstone of effective programming is the creation of **functions**, which permit code readability and reusability.\n",
    "* Definition begins with the (**`def` keyword**, followed by the function name, a set of parentheses and a colon (`:`). \n",
    "* By convention function names should begin with a lowercase letter and in multiword names underscores should separate each word. \n",
    "* Required parentheses contain the function’s **parameter list** (also called **arguments**), with empty parentheses meaning no parameters. \n"
   ]
  },
  {
   "cell_type": "code",
   "execution_count": null,
   "metadata": {},
   "outputs": [],
   "source": [
    "def sayhello():\n",
    "    print('Hello there.')\n",
    "    print('How are you doing today?')"
   ]
  },
  {
   "cell_type": "code",
   "execution_count": null,
   "metadata": {},
   "outputs": [],
   "source": [
    "sayhello() #Assuming the code in the cell above has been executed, it should print out the lines given."
   ]
  },
  {
   "cell_type": "markdown",
   "metadata": {},
   "source": [
    "## Functions Continued\n",
    "* As observed with the simple function above, indentation is used after the function definition line to indicate the function’s **block**, which a special kind of suite. \n",
    "* Every time the function is **called** (i.e. referenced elsewhere in the code), the function's block will be executed.\n",
    "* Very often functions will **return** a value, which can then be assigned to a variable or otherwise manipulated.\n",
    "* Note that **documentation** (one or more comments) is frequently used with functions to indicate their purpose and/or how they should be used in practice."
   ]
  },
  {
   "cell_type": "code",
   "execution_count": null,
   "metadata": {},
   "outputs": [],
   "source": [
    "def square(number):\n",
    "    #Calculate the square of number.\n",
    "    return number ** 2"
   ]
  },
  {
   "cell_type": "code",
   "execution_count": null,
   "metadata": {},
   "outputs": [],
   "source": [
    "print(square(7)) #We can directly print the output of square for a given number."
   ]
  },
  {
   "cell_type": "code",
   "execution_count": null,
   "metadata": {},
   "outputs": [],
   "source": [
    "mysquare_of_10 = square(10) #Or we can store the output in a variable\n",
    "print(mysquare_of_10)"
   ]
  },
  {
   "cell_type": "code",
   "execution_count": null,
   "metadata": {},
   "outputs": [],
   "source": [
    "#Calling square with a non-numeric argument like `'hello'` causes a `TypeError`\n",
    "square('Python')"
   ]
  },
  {
   "cell_type": "markdown",
   "metadata": {
    "slideshow": {
     "slide_type": "slide"
    }
   },
   "source": [
    "### Other Ways to use functions\n",
    "* Function calls also can be embedded in more complex expressions, such as formatted strings.\n",
    "* We can even funnel results from input directly into functions."
   ]
  },
  {
   "cell_type": "code",
   "execution_count": null,
   "metadata": {},
   "outputs": [],
   "source": [
    "print(f'The square of 9 is {square(9)}.')"
   ]
  },
  {
   "cell_type": "code",
   "execution_count": null,
   "metadata": {},
   "outputs": [],
   "source": [
    "print(square(int(input('Give me a number and I will square it for you: '))))"
   ]
  },
  {
   "cell_type": "markdown",
   "metadata": {},
   "source": [
    "## Practice 3: Mathematical Functions\n",
    "It is feasible to use Python functions to perform mathematical function on input values. <br>\n",
    "For this exercise, you are going to create Python functions to perform the following calculations for an input value:\n",
    "* f(x) = 3x\n",
    "* g(x) = 4x + 5\n",
    "* h(x) = 2x^2 - 3x + 4 <br>\n",
    "\n",
    "You may name your functions whatever you like, but func1(x), func2(x), and func3(x) should be fine. <br>\n",
    "**Note: you probably should _not_ name your functions f, g, or h!</b>  If you do, those names will be bound to the functions going forward.** <br>\n",
    "You should then test your functions to verify they are working correctly.  <br>\n",
    "Ex: f(3) = 9, g(5) = 25, h(7) = 81"
   ]
  },
  {
   "cell_type": "markdown",
   "metadata": {
    "slideshow": {
     "slide_type": "slide"
    }
   },
   "source": [
    "## Three Ways to Return an Output Result to a Function’s Caller\n",
    "* We can _directly_ **`return`** an expression (such as was done in the `square` function above).\n",
    "* **`return`** without an expression implicitly returns **`None`**&mdash;represents the **absence of a value** and **evaluates to `False` in conditions**.\n",
    "* **No `return` statement implicitly returns `None`**.\n",
    "* We'll discuss **`None`** in a bit more detail in coming modules.\n"
   ]
  },
  {
   "cell_type": "code",
   "execution_count": null,
   "metadata": {},
   "outputs": [],
   "source": [
    "#Note that we can include multiple function definitions in a single cell\n",
    "def goodbye_version1():\n",
    "    print ('Have a great one!')\n",
    "    return\n",
    "\n",
    "def goodbye_version2():\n",
    "    print ('Have a great one!')"
   ]
  },
  {
   "cell_type": "code",
   "execution_count": null,
   "metadata": {},
   "outputs": [],
   "source": [
    "#The two functions defined previously return exactly the same output when called (i.e. None)\n",
    "out1 = goodbye_version1()\n",
    "print(out1)\n",
    "out2 = goodbye_version2()\n",
    "print(out2)\n"
   ]
  },
  {
   "cell_type": "markdown",
   "metadata": {
    "slideshow": {
     "slide_type": "subslide"
    }
   },
   "source": [
    "### What Happens When You Call a Function\n",
    "* Parameters exist only during the function call. \n",
    "* They are created on each call to the function.\n",
    "* They are immediately destroyed when the function returns its result to the caller. \n",
    "* A function’s parameters and variables defined in its block are all **local variables**, meaning they are inaccessible elsewhere."
   ]
  },
  {
   "cell_type": "code",
   "execution_count": null,
   "metadata": {},
   "outputs": [],
   "source": [
    "def cube(number):\n",
    "    print(f'You input the value {number}.')\n",
    "    return number**3"
   ]
  },
  {
   "cell_type": "code",
   "execution_count": null,
   "metadata": {},
   "outputs": [],
   "source": [
    "mynumber = 5\n",
    "print(cube(mynumber)) #This works expectedly"
   ]
  },
  {
   "cell_type": "code",
   "execution_count": null,
   "metadata": {},
   "outputs": [],
   "source": [
    "print(number) #This fails (number doesn't exist outside the function in which it is defined!)"
   ]
  },
  {
   "cell_type": "markdown",
   "metadata": {
    "slideshow": {
     "slide_type": "slide"
    }
   },
   "source": [
    "## Functions with Multiple Parameters\n",
    "* Functions in Python can effectively take as many input parameters as is desired.\n",
    "* Parameters should be separated from each other using commas i.e. parameter_1, parameter_2, etc.\n",
    "* Otherwise, parameters beyond the first are treated no differently within the context of the function"
   ]
  },
  {
   "cell_type": "code",
   "execution_count": null,
   "metadata": {},
   "outputs": [],
   "source": [
    "#We can define a function to return a specific character by index within a string\n",
    "def charselect(mystring,myindex):\n",
    "    return mystring[myindex]"
   ]
  },
  {
   "cell_type": "code",
   "execution_count": null,
   "metadata": {},
   "outputs": [],
   "source": [
    "#Return the character at position 2 within the string \"Python\"\n",
    "print(charselect('Python',2))"
   ]
  },
  {
   "cell_type": "code",
   "execution_count": null,
   "metadata": {},
   "outputs": [],
   "source": [
    "#Make sure you provide function arguments in the correct order!\n",
    "print(charselect(2, 'Python'))"
   ]
  },
  {
   "cell_type": "code",
   "execution_count": null,
   "metadata": {},
   "outputs": [],
   "source": [
    "#We can define a more complex function to return the maximum of three input parameters.\n",
    "def maximum(value1, value2, value3):\n",
    "    \"\"\"Return the maximum of three values.\"\"\"\n",
    "    max_value = value1\n",
    "    if value2 > max_value:\n",
    "        max_value = value2\n",
    "    if value3 > max_value:\n",
    "        max_value = value3\n",
    "    return max_value"
   ]
  },
  {
   "cell_type": "code",
   "execution_count": null,
   "metadata": {},
   "outputs": [],
   "source": [
    "print(maximum(12, 27, 36))"
   ]
  },
  {
   "cell_type": "markdown",
   "metadata": {},
   "source": [
    "## Practice 4: String Functions\n",
    "It is common to define functions that manipulate multiple strings.  For this exercise, you are to write the following functions, all of which employ two strings:\n",
    "* length_combined(str1, str2): returns the cumulative length across both str1 and str2\n",
    "* same_length(str1, str2): returns True if str1 and str2 have exactly the same length, and False otherwise\n",
    "* length_diff(str1, str2): returns the difference in lengths between two strings (ex: length_diff('Python','Notebook') = 2)\n",
    "* samestr_reversed(str1, str2): returns True is str2 reads the same as str1 **in reverse**, or False otherwise."
   ]
  },
  {
   "cell_type": "code",
   "execution_count": null,
   "metadata": {},
   "outputs": [],
   "source": []
  }
 ],
 "metadata": {
  "celltoolbar": "Slideshow",
  "kernelspec": {
   "display_name": "Python 3 (ipykernel)",
   "language": "python",
   "name": "python3"
  },
  "language_info": {
   "codemirror_mode": {
    "name": "ipython",
    "version": 3
   },
   "file_extension": ".py",
   "mimetype": "text/x-python",
   "name": "python",
   "nbconvert_exporter": "python",
   "pygments_lexer": "ipython3",
   "version": "3.10.9"
  }
 },
 "nbformat": 4,
 "nbformat_minor": 4
}
