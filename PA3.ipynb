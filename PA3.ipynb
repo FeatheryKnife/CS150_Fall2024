{
 "cells": [
  {
   "cell_type": "code",
   "execution_count": 49,
   "id": "98e9a76e-b249-4a51-98e3-e7e66652afae",
   "metadata": {},
   "outputs": [
    {
     "name": "stdin",
     "output_type": "stream",
     "text": [
      "Side 1 of the triangle:  1.3\n",
      "Side 2 of the triangle:  2\n",
      "Side 3 of the triangle:  3\n"
     ]
    },
    {
     "name": "stdout",
     "output_type": "stream",
     "text": [
      "It is a scalene triangle\n"
     ]
    }
   ],
   "source": [
    "#get user input for side lengths\n",
    "a = float(input(\"Side 1 of the triangle: \"))\n",
    "b = float(input(\"Side 2 of the triangle: \"))\n",
    "c = float(input(\"Side 3 of the triangle: \"))\n",
    "#logic to check if it is a valid triangle(google told me this was how to check)\n",
    "if a + b > c and a + c > b and b + c > a:\n",
    "    if a == b == c:\n",
    "        print(\"It is a equilateral triangle\")\n",
    "    elif a == b or b == c or a == c:\n",
    "        print(\"It is a isosceles triangle\")\n",
    "    else:\n",
    "        print(\"It is a scalene triangle\")\n",
    "else:\n",
    "    print(\"The values entered do not make a triangle\")"
   ]
  },
  {
   "cell_type": "code",
   "execution_count": 65,
   "id": "0bd8b998-e8cb-44c3-8dd4-2be5643f3497",
   "metadata": {},
   "outputs": [
    {
     "name": "stdin",
     "output_type": "stream",
     "text": [
      "Number of students:  4\n",
      "Grade for student:  80\n",
      "Grade for student:  59\n",
      "Grade for student:  78\n",
      "Grade for student:  99\n"
     ]
    },
    {
     "name": "stdout",
     "output_type": "stream",
     "text": [
      "The average class grade is 79.0\n",
      "The max class grade is 99.0\n",
      "The min class grade is 59.0\n",
      "There are 1 student(s) at risk of failing\n"
     ]
    }
   ],
   "source": [
    "student_grades = []\n",
    "number_of_stu = int(input(\"Number of students: \"))\n",
    "stuNum = 0\n",
    "at_risk = 0\n",
    "total = 0\n",
    "while stuNum < number_of_stu:\n",
    "    student_grades.append(float(input(\"Grade for student: \")))\n",
    "    stuNum += 1\n",
    "high = student_grades[0]\n",
    "low = student_grades[0]\n",
    "\n",
    "for grade in student_grades:\n",
    "    total += grade\n",
    "    if grade > high:\n",
    "        high = grade\n",
    "    elif grade < low:\n",
    "        low = grade\n",
    "avg = total/number_of_stu\n",
    "print(\"The average class grade is \" + str(avg))\n",
    "print(\"The max class grade is \" + str(high))\n",
    "print(\"The min class grade is \" + str(low))\n",
    "\n",
    "for grade in student_grades:\n",
    "    if grade < 65.0:\n",
    "        at_risk += 1\n",
    "print(\"There are \" + str(at_risk) + \" student(s) at risk of failing\")"
   ]
  },
  {
   "cell_type": "code",
   "execution_count": 82,
   "id": "1ac1c4c6-faec-4b53-9f3f-be089bdb1913",
   "metadata": {},
   "outputs": [
    {
     "name": "stdout",
     "output_type": "stream",
     "text": [
      "multiples of 2:\n",
      "[2, 4, 6, 8, 10, 12, 14, 16, 18, 20, 22, 24, 26, 28, 30, 32, 34, 36, 38, 40, 42, 44, 46, 48, 50, 52, 54, 56, 58, 60, 62, 64, 66, 68, 70, 72, 74, 76, 78, 80, 82, 84, 86, 88, 90, 92, 94, 96, 98, 100]\n",
      "multiples of 3:\n",
      "[3, 6, 9, 12, 15, 18, 21, 24, 27, 30, 33, 36, 39, 42, 45, 48, 51, 54, 57, 60, 63, 66, 69, 72, 75, 78, 81, 84, 87, 90, 93, 96, 99]\n",
      "multiples of both 2 and 3:\n",
      "[6, 12, 18, 24, 30, 36, 42, 48, 54, 60, 66, 72, 78, 84, 90, 96]\n",
      "multiples of either 2 or 3:\n",
      "{2, 3, 4, 6, 8, 9, 10, 12, 14, 15, 16, 18, 20, 21, 22, 24, 26, 27, 28, 30, 32, 33, 34, 36, 38, 39, 40, 42, 44, 45, 46, 48, 50, 51, 52, 54, 56, 57, 58, 60, 62, 63, 64, 66, 68, 69, 70, 72, 74, 75, 76, 78, 80, 81, 82, 84, 86, 87, 88, 90, 92, 93, 94, 96, 98, 99, 100}\n"
     ]
    }
   ],
   "source": [
    "mult_of_2 = []\n",
    "mult_of_3 = []\n",
    "both = []\n",
    "either = []\n",
    "\n",
    "i = 2\n",
    "while i <= 100:\n",
    "    mult_of_2.append(i)\n",
    "    i += 2\n",
    "print(\"multiples of 2:\")\n",
    "print(mult_of_2)\n",
    "\n",
    "j = 3\n",
    "while j <= 100:\n",
    "    mult_of_3.append(j)\n",
    "    j += 3\n",
    "print(\"multiples of 3:\")\n",
    "print(mult_of_3)\n",
    "\n",
    "for item in mult_of_2:\n",
    "    for thing in mult_of_3:\n",
    "        if item == thing:\n",
    "            both.append(item)\n",
    "print(\"multiples of both 2 and 3:\")\n",
    "print(both)\n",
    "\n",
    "bothList = mult_of_2 + mult_of_3\n",
    "print(\"multiples of either 2 or 3:\")\n",
    "print(set(bothList))"
   ]
  },
  {
   "cell_type": "code",
   "execution_count": 129,
   "id": "5a95ac85-87fd-464d-b898-eb8dac67c375",
   "metadata": {},
   "outputs": [
    {
     "name": "stdin",
     "output_type": "stream",
     "text": [
      "Grocery item to add:  milk\n",
      "Grocery item to add:  eggs\n",
      "Grocery item to add:  bacon\n",
      "Grocery item to add:  milk\n",
      "Grocery item to add:  drugs\n",
      "Grocery item to add:  done\n"
     ]
    },
    {
     "name": "stdout",
     "output_type": "stream",
     "text": [
      "\n",
      "Total number of items: 5\n",
      "\n",
      "reverse order: \n",
      "drugs\n",
      "milk\n",
      "bacon\n",
      "eggs\n",
      "milk\n",
      "\n",
      "alphabetical order: \n",
      "bacon\n",
      "drugs\n",
      "eggs\n",
      "milk\n",
      "milk\n",
      "\n",
      "Duplicate items:\n",
      "milk\n"
     ]
    }
   ],
   "source": [
    "#add items to shopping list\n",
    "shopping_list = []\n",
    "i = 0\n",
    "while i < 7:\n",
    "    item = str(input(\"Grocery item to add: \"))\n",
    "    if item == \"done\":\n",
    "        break\n",
    "    shopping_list.insert(0,str(item))\n",
    "    i += 1\n",
    "    \n",
    "print(\"\\nTotal number of items: \" + str(len(shopping_list)))\n",
    "\n",
    "#already reversed from input because i inserted to the front\n",
    "print(\"\\nreverse order: \")\n",
    "for item in shopping_list:\n",
    "    print(item)\n",
    "    \n",
    "print(\"\\nalphabetical order: \")\n",
    "for item in sorted(shopping_list):\n",
    "    print(item)\n",
    "    \n",
    "duplicates = []\n",
    "seen = []\n",
    "for item in shopping_list:\n",
    "    if item in seen:\n",
    "        duplicates.append(item)\n",
    "    seen.append(item)\n",
    "if duplicates:\n",
    "    print(\"\\nDuplicate items:\")\n",
    "    for item in duplicates:\n",
    "        print(item)"
   ]
  },
  {
   "cell_type": "code",
   "execution_count": null,
   "id": "e3dff02b-32b8-4ae0-a1d7-48c05ab847a1",
   "metadata": {},
   "outputs": [],
   "source": []
  }
 ],
 "metadata": {
  "kernelspec": {
   "display_name": "Python 3 (ipykernel)",
   "language": "python",
   "name": "python3"
  },
  "language_info": {
   "codemirror_mode": {
    "name": "ipython",
    "version": 3
   },
   "file_extension": ".py",
   "mimetype": "text/x-python",
   "name": "python",
   "nbconvert_exporter": "python",
   "pygments_lexer": "ipython3",
   "version": "3.12.4"
  }
 },
 "nbformat": 4,
 "nbformat_minor": 5
}
