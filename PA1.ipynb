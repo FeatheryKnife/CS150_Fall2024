{
 "cells": [
  {
   "cell_type": "markdown",
   "id": "2a853078-1cdd-4f0c-9fcd-46a6388b3b68",
   "metadata": {
    "panel-layout": {
     "height": 491.671875,
     "visible": true,
     "width": 100
    }
   },
   "source": [
    "# Truman Gilbert - Markdown Practice"
   ]
  },
  {
   "cell_type": "markdown",
   "id": "6605ac1f-73d3-47ba-856e-76706ef0f8d9",
   "metadata": {},
   "source": [
    "### Brief Introduction - My Name is Truman Gilbert, I am a Duel-Credit student and a Senior at Eminence High School. I have industry certifications in Java and IC3 Digital Literacy and some background in Javascript and Python. I am excited to learn and apply new knowledge about Python in a more \"lifelike\" environment."
   ]
  },
  {
   "cell_type": "markdown",
   "id": "37fc2a1a-3ea5-4005-84ec-3313cf179e3b",
   "metadata": {},
   "source": [
    "### Course Activities\n",
    "- Programming Assignments(5)\n",
    "  1. Intro to Programming\n",
    "  2. Intro to Python, Vars, and Data Types\n",
    "  3. Lists\n",
    "  4. If-Statements\n",
    "  5. Dictionaries\n",
    "  6. Loops\n",
    "  7. Functions\n",
    "  8. Class Datatypes\n",
    "  9. Files and Exceptions\n",
    "  10. Arrays\n",
    "  11. Testing/Debugging\n",
    "- Quizzes(4)\n",
    "- Attendance\n",
    "- Mid-Terms(2)\n",
    "- Projects(2)"
   ]
  },
  {
   "cell_type": "markdown",
   "id": "e8cde3ba-a9ac-4ff9-be81-35aaac29c405",
   "metadata": {},
   "source": [
    "### Chapters Covered\n",
    "1. Chapter 1 - Intro to Programming\n",
    "2. Chapter 2 - Variables and Simple Data Types\n",
    "3. Chapter 3 - List and Tuples\n",
    "4. Chapter 4 - More on Lists and Tuples\n",
    "5. Chapter 5 - If Statements\n",
    "6. Chapter 6 - Dictionaries\n",
    "7. Chapter 7 - Loops\n",
    "8. Chapter 8 = Functions\n",
    "9. Chapter 9 - Class Datatype\n",
    "10. Chapter 10 - Files and Exceptions\n",
    "11. Chapter 11 - Testing and Debugging"
   ]
  },
  {
   "cell_type": "markdown",
   "id": "91cddc8b-9663-4fc4-9ca6-f670074bdf02",
   "metadata": {},
   "source": [
    "I am going to learn about **Python** during this class"
   ]
  },
  {
   "cell_type": "markdown",
   "id": "6e5a3ff3-5dab-4f54-87ad-69d5b25f7f70",
   "metadata": {},
   "source": [
    "I am using _Jupyter Notebook_ to create/edit .ipynb files"
   ]
  },
  {
   "cell_type": "markdown",
   "id": "4fd0923a-d0c0-47ff-8267-cb5bc9f027f2",
   "metadata": {},
   "source": [
    "<mark>I am highlighting these words<mark>"
   ]
  },
  {
   "cell_type": "markdown",
   "id": "2e8f3268-801a-485e-b102-b316dae23f54",
   "metadata": {},
   "source": [
    "[My Github page](https://github.com/FeatheryKnife/CS150_Fall2024.git)"
   ]
  },
  {
   "cell_type": "markdown",
   "id": "e7214b25-7959-4bfb-99bd-093aa19fbf87",
   "metadata": {},
   "source": [
    "![Bellarmine Logo](https://www.bellarmine.edu/sf-images/default-source/marketing/bellarmine-maroon-university-752936.png)"
   ]
  },
  {
   "cell_type": "markdown",
   "id": "c8dc33e3-937e-4780-acee-fde4094e3c5b",
   "metadata": {},
   "source": [
    "During this assignment I learned the basics of Markdown syntax and how to add images to a .ipynb file. This proves useful for code documentation and "
   ]
  }
 ],
 "metadata": {
  "kernelspec": {
   "display_name": "Python 3 (ipykernel)",
   "language": "python",
   "name": "python3"
  },
  "language_info": {
   "codemirror_mode": {
    "name": "ipython",
    "version": 3
   },
   "file_extension": ".py",
   "mimetype": "text/x-python",
   "name": "python",
   "nbconvert_exporter": "python",
   "pygments_lexer": "ipython3",
   "version": "3.12.4"
  },
  "panel-cell-order": [
   "2a853078-1cdd-4f0c-9fcd-46a6388b3b68"
  ]
 },
 "nbformat": 4,
 "nbformat_minor": 5
}
