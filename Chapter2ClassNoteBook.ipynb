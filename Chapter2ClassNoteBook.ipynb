{
 "cells": [
  {
   "cell_type": "markdown",
   "id": "81b2bbc8",
   "metadata": {
    "slideshow": {
     "slide_type": "slide"
    }
   },
   "source": [
    "# Chapter 2: Variables and and Simple Data Types\n",
    "* A variable name is an **identifier**. \n",
    "* May consist of letters, digits and underscores (`_`) but **may not begin with a digit**. \n",
    "* Python is _case sensitive_. \n",
    "* Each value in Python has a type that indicates the kind of data the value represents. "
   ]
  },
  {
   "cell_type": "markdown",
   "id": "9f73fa21",
   "metadata": {
    "slideshow": {
     "slide_type": "slide"
    }
   },
   "source": [
    "####  Write a statement to create variable `myBirthYear` and use the **assignment symbol (`=`)** to give `myBirthYear` a numeric value. "
   ]
  },
  {
   "cell_type": "code",
   "execution_count": 34,
   "id": "92846dd3",
   "metadata": {},
   "outputs": [],
   "source": [
    "myBirthYear = 2007"
   ]
  },
  {
   "cell_type": "code",
   "execution_count": 36,
   "id": "a4116ba9-ee1a-4487-bb29-c84f958a9b01",
   "metadata": {},
   "outputs": [
    {
     "name": "stdout",
     "output_type": "stream",
     "text": [
      "2007\n"
     ]
    }
   ],
   "source": [
    "print(myBirthYear)"
   ]
  },
  {
   "cell_type": "markdown",
   "id": "87338e34",
   "metadata": {},
   "source": [
    "### Print a message consisting of a quoted sequence of characters"
   ]
  },
  {
   "cell_type": "code",
   "execution_count": 43,
   "id": "3bace5f9",
   "metadata": {},
   "outputs": [],
   "source": [
    "message = \"My birth year is: \""
   ]
  },
  {
   "cell_type": "code",
   "execution_count": 45,
   "id": "a991a1a0",
   "metadata": {},
   "outputs": [
    {
     "name": "stdout",
     "output_type": "stream",
     "text": [
      "My birth year is: \n"
     ]
    }
   ],
   "source": [
    "print(message)"
   ]
  },
  {
   "cell_type": "markdown",
   "id": "89fec02b",
   "metadata": {},
   "source": [
    "### Combine our knowledge about variables and printing to output a variable entered in a prior cell."
   ]
  },
  {
   "cell_type": "code",
   "execution_count": 47,
   "id": "4bf85453",
   "metadata": {},
   "outputs": [
    {
     "name": "stdout",
     "output_type": "stream",
     "text": [
      "My birth year is:  2007\n"
     ]
    }
   ],
   "source": [
    "print(message, myBirthYear)"
   ]
  },
  {
   "cell_type": "code",
   "execution_count": null,
   "id": "0a949463-0604-4e22-b8c9-def253fd33cb",
   "metadata": {},
   "outputs": [],
   "source": []
  },
  {
   "cell_type": "markdown",
   "id": "5f8394d9",
   "metadata": {},
   "source": [
    "# Strings"
   ]
  },
  {
   "cell_type": "markdown",
   "id": "be203204",
   "metadata": {},
   "source": [
    "## A string is simply a series of characters. Anything inside quotes is considered a string in Python, and you can use `single` or `double quotes` around your strings\n",
    "### \"This is a string.\"\n",
    "### 'This is also a string.'"
   ]
  },
  {
   "cell_type": "markdown",
   "id": "adae7f7c",
   "metadata": {},
   "source": [
    "###  Build in String methods\n",
    "Use `dir('  ')` to display all possible methods (ways we can manipulate) strings (sequences of characters)."
   ]
  },
  {
   "cell_type": "code",
   "execution_count": null,
   "id": "972ece85",
   "metadata": {},
   "outputs": [],
   "source": [
    "dir(\" \")"
   ]
  },
  {
   "cell_type": "markdown",
   "id": "f0cc290c",
   "metadata": {},
   "source": [
    "### Note: you don't need to worry about most of the methods defined above.  We are interested in a very small subset."
   ]
  },
  {
   "cell_type": "code",
   "execution_count": 71,
   "id": "691e6b3a",
   "metadata": {},
   "outputs": [
    {
     "name": "stdout",
     "output_type": "stream",
     "text": [
      "BOB IS COOL\n"
     ]
    }
   ],
   "source": [
    "# print uppercase version of a string\n",
    "bob = \"Bob is cool\"\n",
    "print(bob.upper())"
   ]
  },
  {
   "cell_type": "code",
   "execution_count": 73,
   "id": "be0d6351",
   "metadata": {},
   "outputs": [
    {
     "name": "stdout",
     "output_type": "stream",
     "text": [
      "bob is cool\n"
     ]
    }
   ],
   "source": [
    "# print lowercase version of a string\n",
    "print(bob.lower())"
   ]
  },
  {
   "cell_type": "code",
   "execution_count": 75,
   "id": "bdcfb17f",
   "metadata": {},
   "outputs": [
    {
     "name": "stdout",
     "output_type": "stream",
     "text": [
      "Bob is cool\n"
     ]
    }
   ],
   "source": [
    "# capitalize only the first letter in a string\n",
    "print(bob.capitalize())"
   ]
  },
  {
   "cell_type": "code",
   "execution_count": 77,
   "id": "39359e69",
   "metadata": {},
   "outputs": [
    {
     "name": "stdout",
     "output_type": "stream",
     "text": [
      "Bob Is Cool\n"
     ]
    }
   ],
   "source": [
    "# provide title-case for a string (Notice how this is distinct from capitalizing)\n",
    "print(bob.title())"
   ]
  },
  {
   "cell_type": "code",
   "execution_count": 95,
   "id": "98ccee67",
   "metadata": {},
   "outputs": [],
   "source": [
    "# Concatenate two strings (be careful -- this is done in a slightly different fashion!)\n",
    "joe = \"Joe is not cool\"\n",
    "both = bob+\", \"+joe"
   ]
  },
  {
   "cell_type": "code",
   "execution_count": 97,
   "id": "9a9893d6",
   "metadata": {},
   "outputs": [
    {
     "name": "stdout",
     "output_type": "stream",
     "text": [
      "Bob is cool, Joe is not cool\n"
     ]
    }
   ],
   "source": [
    "print(both)"
   ]
  },
  {
   "cell_type": "code",
   "execution_count": null,
   "id": "c157d46f",
   "metadata": {},
   "outputs": [],
   "source": [
    "# Find the number of characters in a string (again, this may vary)"
   ]
  },
  {
   "cell_type": "code",
   "execution_count": 99,
   "id": "4579678b",
   "metadata": {},
   "outputs": [
    {
     "name": "stdout",
     "output_type": "stream",
     "text": [
      "28\n"
     ]
    }
   ],
   "source": [
    "length = len(both)\n",
    "print(length)"
   ]
  },
  {
   "cell_type": "markdown",
   "id": "9bdf8bca",
   "metadata": {},
   "source": [
    "## Practice 1:\n",
    "Personal Message: Store a person’s name in a variable, and print a message\n",
    "to that person. Your message should be simple, such as, “Hello Eric,\n",
    "would you like to learn some Python today?”\n"
   ]
  },
  {
   "cell_type": "code",
   "execution_count": 105,
   "id": "69ddf2f9",
   "metadata": {},
   "outputs": [],
   "source": [
    "name = \"Untitled PERSON\""
   ]
  },
  {
   "cell_type": "code",
   "execution_count": 107,
   "id": "cec8c27b",
   "metadata": {},
   "outputs": [
    {
     "name": "stdout",
     "output_type": "stream",
     "text": [
      "Hello, Untitled PERSON, would you like to learn some Python today?\n"
     ]
    }
   ],
   "source": [
    "print(\"Hello, \"+name+\", would you like to learn some Python today?\")"
   ]
  },
  {
   "cell_type": "markdown",
   "id": "774ce300-d1e6-44f9-94e7-87add19eef85",
   "metadata": {},
   "source": [
    "## Practice 2:\n",
    "Name Cases: Store a person’s name in a variable, and then print that person’s\n",
    "name in lowercase, uppercase, and titlecase."
   ]
  },
  {
   "cell_type": "code",
   "execution_count": 109,
   "id": "7d370a88",
   "metadata": {},
   "outputs": [
    {
     "name": "stdout",
     "output_type": "stream",
     "text": [
      "untitled person\n"
     ]
    }
   ],
   "source": [
    "print(name.lower())"
   ]
  },
  {
   "cell_type": "code",
   "execution_count": 111,
   "id": "a2d89d05",
   "metadata": {},
   "outputs": [
    {
     "name": "stdout",
     "output_type": "stream",
     "text": [
      "UNTITLED PERSON\n"
     ]
    }
   ],
   "source": [
    "print(name.upper())"
   ]
  },
  {
   "cell_type": "code",
   "execution_count": 113,
   "id": "95524d82",
   "metadata": {},
   "outputs": [
    {
     "name": "stdout",
     "output_type": "stream",
     "text": [
      "Untitled Person\n"
     ]
    }
   ],
   "source": [
    "print(name.title())"
   ]
  },
  {
   "cell_type": "code",
   "execution_count": 115,
   "id": "a43e1d7d",
   "metadata": {},
   "outputs": [
    {
     "name": "stdout",
     "output_type": "stream",
     "text": [
      "Untitled person\n"
     ]
    }
   ],
   "source": [
    "print(name.capitalize())"
   ]
  },
  {
   "cell_type": "markdown",
   "id": "1f7191b0",
   "metadata": {},
   "source": [
    "## Adding Whitespace to Strings with Tabs or Newlines or  quotation\n",
    "* A backslash (`\\`) in a string is the **escape character**. \n",
    "* The backslash and the character immediately following it form an **escape sequence**. \n",
    "\n",
    "#### 2.4.2 Other Escape Sequences\n",
    "| Escape sequence | Description\n",
    "| :------- | :------------\n",
    "| `\\n` | Insert a newline character in a string. When the string is displayed, for each newline, move the screen cursor to the beginning of the next line. \n",
    "| `\\t` | Insert a horizontal tab. When the string is displayed, for each tab, move the screen cursor to the next tab stop. \n",
    "| `\\\\` | Insert a backslash character in a string.\n",
    "| `\\\"` | Insert a double quote character in a string.\n",
    "| `\\'` | Insert a single quote character in a string."
   ]
  },
  {
   "cell_type": "code",
   "execution_count": 119,
   "id": "ed57b62f",
   "metadata": {},
   "outputs": [
    {
     "name": "stdout",
     "output_type": "stream",
     "text": [
      "Hello\n",
      "World\n"
     ]
    }
   ],
   "source": [
    "print(\"Hello\\nWorld\")"
   ]
  },
  {
   "cell_type": "code",
   "execution_count": 125,
   "id": "161cc541",
   "metadata": {},
   "outputs": [
    {
     "name": "stdout",
     "output_type": "stream",
     "text": [
      "Hello\tWorld\n"
     ]
    }
   ],
   "source": [
    "print(\"Hello\\tWorld\")"
   ]
  },
  {
   "cell_type": "code",
   "execution_count": 131,
   "id": "0f6f4862",
   "metadata": {},
   "outputs": [
    {
     "name": "stdout",
     "output_type": "stream",
     "text": [
      "Hello \\ World\n"
     ]
    }
   ],
   "source": [
    "print(\"Hello \\\\ World\")"
   ]
  },
  {
   "cell_type": "code",
   "execution_count": 133,
   "id": "13159314",
   "metadata": {},
   "outputs": [
    {
     "name": "stdout",
     "output_type": "stream",
     "text": [
      "Hello \"World\"\n"
     ]
    }
   ],
   "source": [
    "print(\"Hello \\\"World\\\"\")"
   ]
  },
  {
   "cell_type": "code",
   "execution_count": 135,
   "id": "bd830981",
   "metadata": {},
   "outputs": [
    {
     "name": "stdout",
     "output_type": "stream",
     "text": [
      "Hello 'World'\n"
     ]
    }
   ],
   "source": [
    "print(\"Hello \\'World\\'\")"
   ]
  },
  {
   "cell_type": "markdown",
   "id": "59e57742",
   "metadata": {},
   "source": [
    "## Useful methods for splitting a string\n",
    "- split\n",
    "- rsplit (we'll talk about the difference between this and split later)\n",
    "- splitlines"
   ]
  },
  {
   "cell_type": "code",
   "execution_count": 173,
   "id": "af62cbd5-872c-49ad-b668-4202ced0e90c",
   "metadata": {},
   "outputs": [],
   "source": [
    "text = \"This is\\nEXAMPLE text\""
   ]
  },
  {
   "cell_type": "code",
   "execution_count": 175,
   "id": "a30d3f33",
   "metadata": {},
   "outputs": [
    {
     "name": "stdout",
     "output_type": "stream",
     "text": [
      "['This', 'is', 'EXAMPLE', 'text']\n"
     ]
    }
   ],
   "source": [
    "print(text.split())"
   ]
  },
  {
   "cell_type": "code",
   "execution_count": 177,
   "id": "64d6d026",
   "metadata": {},
   "outputs": [
    {
     "name": "stdout",
     "output_type": "stream",
     "text": [
      "['Thi', ' i', '\\nEXAMPLE text']\n"
     ]
    }
   ],
   "source": [
    "print(text.rsplit(\"s\"))"
   ]
  },
  {
   "cell_type": "code",
   "execution_count": 179,
   "id": "2eab9285-a7ea-42fc-bd79-f6b54f012e12",
   "metadata": {},
   "outputs": [
    {
     "name": "stdout",
     "output_type": "stream",
     "text": [
      "['This is', 'EXAMPLE text']\n"
     ]
    }
   ],
   "source": [
    "print(text.splitlines())"
   ]
  },
  {
   "cell_type": "markdown",
   "id": "767a741a",
   "metadata": {},
   "source": [
    "## Useful methods for stripping a string of whitespace characters (\" \", \"\\t\", \"\\n\")\n",
    "- lstrip\n",
    "- rstrip\n",
    "- strip"
   ]
  },
  {
   "cell_type": "code",
   "execution_count": 191,
   "id": "a98d7290",
   "metadata": {},
   "outputs": [
    {
     "name": "stdout",
     "output_type": "stream",
     "text": [
      "\tTabbing is fun\n",
      "hello world        hello\n"
     ]
    }
   ],
   "source": [
    "txt = \"\\tTabbing is fun\\nhello world        \"\n",
    "txt2 = \"hello\"\n",
    "print(txt + txt2)"
   ]
  },
  {
   "cell_type": "code",
   "execution_count": 195,
   "id": "33fcdb4a",
   "metadata": {},
   "outputs": [
    {
     "name": "stdout",
     "output_type": "stream",
     "text": [
      "Tabbing is fun\n",
      "hello world        hello\n"
     ]
    }
   ],
   "source": [
    "print(txt.lstrip() + txt2)"
   ]
  },
  {
   "cell_type": "code",
   "execution_count": 197,
   "id": "878aea11",
   "metadata": {},
   "outputs": [
    {
     "name": "stdout",
     "output_type": "stream",
     "text": [
      "\tTabbing is fun\n",
      "hello worldhello\n"
     ]
    }
   ],
   "source": [
    "print(txt.rstrip() + txt2)"
   ]
  },
  {
   "cell_type": "code",
   "execution_count": 199,
   "id": "172ecf84",
   "metadata": {},
   "outputs": [
    {
     "name": "stdout",
     "output_type": "stream",
     "text": [
      "Tabbing is fun\n",
      "hello worldhello\n"
     ]
    }
   ],
   "source": [
    "print(txt.strip() + txt2)"
   ]
  },
  {
   "cell_type": "markdown",
   "id": "59666fd1",
   "metadata": {},
   "source": [
    "## Practice 3\n",
    "1. Stripping Sentences: Create a sentence consisting of multiple words, and include some whitespace characters at the beginning and end of the name. Make sure you use \" \", \"\\t\" and \"\\n\", at least once at the beginning and/or end.\n",
    "Print the sentence once, so the whitespace around the sentence is displayed.\n",
    "Then print the sentence using each of the three stripping functions, lstrip(),\n",
    "rstrip(), and strip()."
   ]
  },
  {
   "cell_type": "code",
   "execution_count": 213,
   "id": "a0fa9df3",
   "metadata": {},
   "outputs": [
    {
     "name": "stdout",
     "output_type": "stream",
     "text": [
      "I like\n",
      " Python so\tfar    \n"
     ]
    }
   ],
   "source": [
    "words = \"I like\\n Python so\\tfar    \"\n",
    "print(words)"
   ]
  },
  {
   "cell_type": "code",
   "execution_count": 215,
   "id": "26377f7e",
   "metadata": {},
   "outputs": [
    {
     "name": "stdout",
     "output_type": "stream",
     "text": [
      "I like\n",
      " Python so\tfar    \n"
     ]
    }
   ],
   "source": [
    "print(words.lstrip())"
   ]
  },
  {
   "cell_type": "code",
   "execution_count": 217,
   "id": "b86dc1a6",
   "metadata": {},
   "outputs": [
    {
     "name": "stdout",
     "output_type": "stream",
     "text": [
      "I like\n",
      " Python so\tfar\n"
     ]
    }
   ],
   "source": [
    "print(words.rstrip())"
   ]
  },
  {
   "cell_type": "code",
   "execution_count": 219,
   "id": "02f77024-7d25-44d0-b00a-50d11456acb5",
   "metadata": {},
   "outputs": [
    {
     "name": "stdout",
     "output_type": "stream",
     "text": [
      "I like\n",
      " Python so\tfarI like\n",
      " Python so\tfar    \n"
     ]
    }
   ],
   "source": [
    "print(words.strip()+words)"
   ]
  },
  {
   "cell_type": "markdown",
   "id": "7cb5c2e0",
   "metadata": {},
   "source": [
    "#### Replacing words or characters of a string (Note: we're only brushing the surface of what Python can do here!)"
   ]
  },
  {
   "cell_type": "code",
   "execution_count": 1,
   "id": "22032818",
   "metadata": {},
   "outputs": [],
   "source": [
    "originText = \"Hello world\""
   ]
  },
  {
   "cell_type": "code",
   "execution_count": 5,
   "id": "9f42116f-4afb-4a2b-8708-1dfc9739d39f",
   "metadata": {},
   "outputs": [
    {
     "name": "stdout",
     "output_type": "stream",
     "text": [
      "Goodbye world\n"
     ]
    }
   ],
   "source": [
    "print(originText.replace(\"Hello\", \"Goodbye\"))"
   ]
  },
  {
   "cell_type": "code",
   "execution_count": null,
   "id": "5b3de060",
   "metadata": {},
   "outputs": [],
   "source": []
  },
  {
   "cell_type": "markdown",
   "id": "7a2ff52e",
   "metadata": {},
   "source": [
    "# Number"
   ]
  },
  {
   "cell_type": "markdown",
   "id": "7ed88df4",
   "metadata": {},
   "source": [
    "# Data Types\n",
    "* `float` (floating point) - used for real numbers.\n",
    "* `int` (integer) - used for integers."
   ]
  },
  {
   "cell_type": "markdown",
   "id": "c37ef37a",
   "metadata": {},
   "source": [
    "## Arithmetic Operator\n",
    "| Python operation | Arithmetic operator | Python expression\n",
    "| :-------- | :-------- | :-------- \n",
    "| Addition | `+`  | `f + 7` \n",
    "| Subtraction | `–` | `p - c` \n",
    "| Multiplication | `*` | `b * m` \n",
    "| Exponentiation | `**` |  `x ** y` \n",
    "| True division | `/` | `x / y` \n",
    "| Floor division | `//` | `x // y` \n",
    "| Remainder (modulo) | `%` | `r % s` \n",
    "\n",
    "`Floor division` is an operation in Python that divides two numbers and rounds the result down to the nearest integer."
   ]
  },
  {
   "cell_type": "code",
   "execution_count": 15,
   "id": "ddee7b60",
   "metadata": {},
   "outputs": [],
   "source": [
    "num1 = float(93.4129)\n",
    "num2 = int(28)"
   ]
  },
  {
   "cell_type": "code",
   "execution_count": 29,
   "id": "89065958",
   "metadata": {},
   "outputs": [
    {
     "name": "stdout",
     "output_type": "stream",
     "text": [
      "3.336175\n",
      "3.0\n",
      "93.4129\n",
      "121.4129\n",
      "9.412899999999993\n"
     ]
    }
   ],
   "source": [
    "print(num1/num2)\n",
    "print(num1//num2)\n",
    "print(num2*3.336175)\n",
    "print(num1+num2)\n",
    "print(num1%num2)"
   ]
  },
  {
   "cell_type": "code",
   "execution_count": null,
   "id": "0a916868",
   "metadata": {},
   "outputs": [],
   "source": []
  },
  {
   "cell_type": "markdown",
   "id": "290d4afb",
   "metadata": {},
   "source": [
    "## Avoiding Type Errors with the str() Function"
   ]
  },
  {
   "cell_type": "code",
   "execution_count": 11,
   "id": "d853bd0b",
   "metadata": {},
   "outputs": [
    {
     "name": "stdout",
     "output_type": "stream",
     "text": [
      "12\n",
      "12 hi\n",
      "92\n",
      "124\n"
     ]
    }
   ],
   "source": [
    "x = 12\n",
    "y = \"92\"\n",
    "print(str(x))\n",
    "print(str(x)+\" hi\")\n",
    "print(int(y))\n",
    "print(int(y)+32)"
   ]
  },
  {
   "cell_type": "code",
   "execution_count": null,
   "id": "9da718ed",
   "metadata": {},
   "outputs": [],
   "source": []
  },
  {
   "cell_type": "markdown",
   "id": "165bd5f8",
   "metadata": {},
   "source": [
    "## Practice 4\n",
    "Basic Arithmetic: Write addition, subtraction, multiplication, and division\n",
    "operations that each result in the number 91. <br>Be sure to enclose your operations\n",
    "in print statements to see the results. You should create four lines that look\n",
    "like this:\n",
    "print([num1] + [num2]), where num1 and num2 are appropriate numbers for the operation.<br>\n",
    "Your output should simply be four lines with the number 91 appearing once\n",
    "on each line.\n"
   ]
  },
  {
   "cell_type": "code",
   "execution_count": 15,
   "id": "0deea5b4",
   "metadata": {},
   "outputs": [
    {
     "name": "stdout",
     "output_type": "stream",
     "text": [
      "91\n",
      "91.0\n",
      "91\n",
      "91.0\n"
     ]
    }
   ],
   "source": [
    "print(80+11)\n",
    "print(18.2*5)\n",
    "print(100-9)\n",
    "print(364/4)"
   ]
  },
  {
   "cell_type": "code",
   "execution_count": null,
   "id": "3abdb7ed",
   "metadata": {},
   "outputs": [],
   "source": []
  },
  {
   "cell_type": "code",
   "execution_count": null,
   "id": "64f1ae69",
   "metadata": {},
   "outputs": [],
   "source": []
  },
  {
   "cell_type": "markdown",
   "id": "e05b5c26",
   "metadata": {},
   "source": [
    "## Getting Input from the User\n",
    "* Built-in **`input` function** requests and obtains user input."
   ]
  },
  {
   "cell_type": "code",
   "execution_count": 19,
   "id": "4fec3462",
   "metadata": {},
   "outputs": [
    {
     "name": "stdin",
     "output_type": "stream",
     "text": [
      " truman\n"
     ]
    },
    {
     "name": "stdout",
     "output_type": "stream",
     "text": [
      "hello, truman\n"
     ]
    }
   ],
   "source": [
    "name = input()\n",
    "print(\"hello, \"+name)"
   ]
  },
  {
   "cell_type": "code",
   "execution_count": 21,
   "id": "d5a698c2",
   "metadata": {},
   "outputs": [
    {
     "name": "stdin",
     "output_type": "stream",
     "text": [
      " truman\n"
     ]
    },
    {
     "name": "stdout",
     "output_type": "stream",
     "text": [
      "hello, truman\n"
     ]
    }
   ],
   "source": [
    "print(\"hello, \" + input())"
   ]
  },
  {
   "cell_type": "code",
   "execution_count": null,
   "id": "93f54fc5",
   "metadata": {},
   "outputs": [],
   "source": []
  },
  {
   "cell_type": "markdown",
   "id": "476c6426",
   "metadata": {},
   "source": [
    "## Getting an Integer/ Float from the User\n",
    "* If you need an integer, convert the string to an integer using the built-in **`int` / `float` function**. "
   ]
  },
  {
   "cell_type": "code",
   "execution_count": 31,
   "id": "1905f791",
   "metadata": {},
   "outputs": [
    {
     "name": "stdin",
     "output_type": "stream",
     "text": [
      " 20\n",
      " 194\n"
     ]
    },
    {
     "name": "stdout",
     "output_type": "stream",
     "text": [
      "214.0\n"
     ]
    }
   ],
   "source": [
    "number1 = float(input())\n",
    "number2 = float(input())\n",
    "print(number1+number2)"
   ]
  },
  {
   "cell_type": "code",
   "execution_count": 33,
   "id": "a8b6814e",
   "metadata": {},
   "outputs": [
    {
     "name": "stdin",
     "output_type": "stream",
     "text": [
      " 10\n",
      " 302\n"
     ]
    },
    {
     "name": "stdout",
     "output_type": "stream",
     "text": [
      "0.033112582781456956\n"
     ]
    }
   ],
   "source": [
    "print(float(input())/float(input()))"
   ]
  },
  {
   "cell_type": "markdown",
   "id": "12c87d2e",
   "metadata": {},
   "source": [
    "## Practice 5\n",
    "Favorite Number: Select your own favorite number, and store it in a variable.  Ask a user for their favorite number, and store it in a second variable. Then, using those two variables, create a print message indicating the sum of the two numbers."
   ]
  },
  {
   "cell_type": "code",
   "execution_count": 43,
   "id": "ac65d7d0",
   "metadata": {},
   "outputs": [
    {
     "name": "stdout",
     "output_type": "stream",
     "text": [
      "what is your(assuming youre truman) favorite number?\n"
     ]
    },
    {
     "name": "stdin",
     "output_type": "stream",
     "text": [
      " 102\n"
     ]
    },
    {
     "name": "stdout",
     "output_type": "stream",
     "text": [
      "give me one more number\n"
     ]
    },
    {
     "name": "stdin",
     "output_type": "stream",
     "text": [
      " 12\n"
     ]
    },
    {
     "name": "stdout",
     "output_type": "stream",
     "text": [
      "here is the sum of those two numbers: 114.0\n"
     ]
    }
   ],
   "source": [
    "print(\"what is your(assuming youre truman) favorite number?\")\n",
    "favNum = float(input())\n",
    "print(\"give me one more number\")\n",
    "newNum = int(input())\n",
    "print(\"here is the sum of those two numbers: \" + str(favNum+newNum))"
   ]
  },
  {
   "cell_type": "code",
   "execution_count": null,
   "id": "87cf6c96",
   "metadata": {},
   "outputs": [],
   "source": []
  },
  {
   "cell_type": "code",
   "execution_count": null,
   "id": "b817cf3e",
   "metadata": {},
   "outputs": [],
   "source": []
  },
  {
   "cell_type": "markdown",
   "id": "6ff42bfa",
   "metadata": {},
   "source": [
    "## Checking the data type using `type` function"
   ]
  },
  {
   "cell_type": "code",
   "execution_count": 41,
   "id": "e1b73434",
   "metadata": {},
   "outputs": [
    {
     "name": "stdout",
     "output_type": "stream",
     "text": [
      "<class 'float'>\n"
     ]
    }
   ],
   "source": [
    "print(type(favNum))"
   ]
  },
  {
   "cell_type": "code",
   "execution_count": 45,
   "id": "5c848906",
   "metadata": {},
   "outputs": [
    {
     "name": "stdout",
     "output_type": "stream",
     "text": [
      "<class 'int'>\n"
     ]
    }
   ],
   "source": [
    "print(type(newNum))"
   ]
  },
  {
   "cell_type": "markdown",
   "id": "fc6e7e28",
   "metadata": {},
   "source": [
    "## Errors in Python\n",
    "When an error occurs in your program, the Python interpreter does its\n",
    "best to help you figure out where the problem is. The interpreter provides\n",
    "a traceback when a program cannot run successfully. A traceback is a record\n",
    "of where the interpreter ran into trouble when trying to execute your code.\n",
    "Errors can be classified into three major groups:\n",
    "- Syntax errors\n",
    "- Runtime errors\n",
    "- Logical errors"
   ]
  },
  {
   "cell_type": "markdown",
   "id": "7fe3220f",
   "metadata": {},
   "source": [
    "### Syntax error.\n",
    "- Python will find these kinds of errors when it tries to parse your program, and exit with an error message without running anything. \n",
    "- Syntax errors are mistakes in the use of the Python language, and are analogous to spelling or grammar mistakes in a language like English: for example, the sentence Would you some tea? does not make sense – it is missing a verb.\n"
   ]
  },
  {
   "cell_type": "markdown",
   "id": "88840cff",
   "metadata": {},
   "source": [
    "### Example:\n",
    "- leaving out a keyword\n",
    "- putting a keyword in the wrong place\n",
    "- leaving out a symbol, such as a colon, comma or brackets\n",
    "- misspelling a keyword\n",
    "- incorrect indentation\n",
    "- empty block"
   ]
  },
  {
   "cell_type": "code",
   "execution_count": 49,
   "id": "1b4b64c3",
   "metadata": {},
   "outputs": [
    {
     "ename": "NameError",
     "evalue": "name 'Print' is not defined",
     "output_type": "error",
     "traceback": [
      "\u001b[1;31m---------------------------------------------------------------------------\u001b[0m",
      "\u001b[1;31mNameError\u001b[0m                                 Traceback (most recent call last)",
      "Cell \u001b[1;32mIn[49], line 1\u001b[0m\n\u001b[1;32m----> 1\u001b[0m Print(\u001b[38;5;124m\"\u001b[39m\u001b[38;5;124mhello world\u001b[39m\u001b[38;5;124m\"\u001b[39m)\n",
      "\u001b[1;31mNameError\u001b[0m: name 'Print' is not defined"
     ]
    }
   ],
   "source": [
    "Print(\"hello world\")"
   ]
  },
  {
   "cell_type": "code",
   "execution_count": 51,
   "id": "92353ef9",
   "metadata": {},
   "outputs": [
    {
     "ename": "SyntaxError",
     "evalue": "incomplete input (3907806865.py, line 1)",
     "output_type": "error",
     "traceback": [
      "\u001b[1;36m  Cell \u001b[1;32mIn[51], line 1\u001b[1;36m\u001b[0m\n\u001b[1;33m    print('Hello world'\u001b[0m\n\u001b[1;37m                       ^\u001b[0m\n\u001b[1;31mSyntaxError\u001b[0m\u001b[1;31m:\u001b[0m incomplete input\n"
     ]
    }
   ],
   "source": [
    "print('Hello world'"
   ]
  },
  {
   "cell_type": "code",
   "execution_count": 57,
   "id": "c241756e",
   "metadata": {},
   "outputs": [
    {
     "ename": "SyntaxError",
     "evalue": "unterminated string literal (detected at line 1) (842549119.py, line 1)",
     "output_type": "error",
     "traceback": [
      "\u001b[1;36m  Cell \u001b[1;32mIn[57], line 1\u001b[1;36m\u001b[0m\n\u001b[1;33m    print(\"hello world')\u001b[0m\n\u001b[1;37m          ^\u001b[0m\n\u001b[1;31mSyntaxError\u001b[0m\u001b[1;31m:\u001b[0m unterminated string literal (detected at line 1)\n"
     ]
    }
   ],
   "source": [
    "print(\"hello world')"
   ]
  },
  {
   "cell_type": "markdown",
   "id": "f10a50b1",
   "metadata": {},
   "source": [
    "## Runtime error\n",
    "- A program with a runtime error is one that passed the interpreter’s syntax checks, and started to execute. \n",
    "- However, during the execution of one of the statements in the program, an error occurred that caused the interpreter to stop executing the program and display an error message. \n",
    "- Runtime errors are also called `exceptions` because they usually indicate that something exceptional (and bad) has happened."
   ]
  },
  {
   "cell_type": "markdown",
   "id": "b5ce828a",
   "metadata": {},
   "source": [
    "### Examples: \n",
    "- division by zero.\n",
    "- performing an operation on incompatible types.\n",
    "- using an identifier which has not been defined.\n",
    "- accessing a list element, dictionary value or object attribute which doesn't exist.\n",
    "- trying to access a file which doesn't exist."
   ]
  },
  {
   "cell_type": "code",
   "execution_count": 59,
   "id": "7176f581",
   "metadata": {},
   "outputs": [
    {
     "ename": "ZeroDivisionError",
     "evalue": "division by zero",
     "output_type": "error",
     "traceback": [
      "\u001b[1;31m---------------------------------------------------------------------------\u001b[0m",
      "\u001b[1;31mZeroDivisionError\u001b[0m                         Traceback (most recent call last)",
      "Cell \u001b[1;32mIn[59], line 1\u001b[0m\n\u001b[1;32m----> 1\u001b[0m \u001b[38;5;28mprint\u001b[39m(\u001b[38;5;241m100\u001b[39m\u001b[38;5;241m/\u001b[39m\u001b[38;5;241m0\u001b[39m)\n",
      "\u001b[1;31mZeroDivisionError\u001b[0m: division by zero"
     ]
    }
   ],
   "source": [
    "print(100/0)"
   ]
  },
  {
   "cell_type": "code",
   "execution_count": 64,
   "id": "15f63562",
   "metadata": {},
   "outputs": [
    {
     "ename": "TypeError",
     "evalue": "unsupported operand type(s) for /: 'str' and 'int'",
     "output_type": "error",
     "traceback": [
      "\u001b[1;31m---------------------------------------------------------------------------\u001b[0m",
      "\u001b[1;31mTypeError\u001b[0m                                 Traceback (most recent call last)",
      "Cell \u001b[1;32mIn[64], line 1\u001b[0m\n\u001b[1;32m----> 1\u001b[0m \u001b[38;5;28mprint\u001b[39m(\u001b[38;5;124m\"\u001b[39m\u001b[38;5;124m12\u001b[39m\u001b[38;5;124m\"\u001b[39m\u001b[38;5;241m/\u001b[39m\u001b[38;5;241m6\u001b[39m)\n",
      "\u001b[1;31mTypeError\u001b[0m: unsupported operand type(s) for /: 'str' and 'int'"
     ]
    }
   ],
   "source": [
    "print(\"12\"/6)"
   ]
  },
  {
   "cell_type": "code",
   "execution_count": null,
   "id": "d1402fc5",
   "metadata": {},
   "outputs": [],
   "source": []
  },
  {
   "cell_type": "code",
   "execution_count": null,
   "id": "7b172df3",
   "metadata": {},
   "outputs": [],
   "source": []
  },
  {
   "cell_type": "markdown",
   "id": "6dec365d",
   "metadata": {},
   "source": [
    "### Logical error\n",
    "- Logical errors are the most difficult to fix. They occur when the program runs without crashing, but produces an incorrect result. \n",
    "- The error is caused by a mistake in the program’s logic. \n",
    "- You won’t get an error message, because no syntax or runtime error has occurred. \n",
    "- You will have to find the problem on your own by reviewing all the relevant parts of your code "
   ]
  },
  {
   "cell_type": "code",
   "execution_count": 68,
   "id": "49aba111",
   "metadata": {},
   "outputs": [
    {
     "name": "stdout",
     "output_type": "stream",
     "text": [
      "6\n"
     ]
    }
   ],
   "source": [
    "x=12\n",
    "y=6\n",
    "z=x-y\n",
    "print(z)\n",
    "z+=1"
   ]
  },
  {
   "cell_type": "code",
   "execution_count": null,
   "id": "d62a5c59",
   "metadata": {},
   "outputs": [],
   "source": []
  },
  {
   "cell_type": "code",
   "execution_count": null,
   "id": "16d4bda9",
   "metadata": {},
   "outputs": [],
   "source": []
  },
  {
   "cell_type": "code",
   "execution_count": null,
   "id": "adb4317e",
   "metadata": {},
   "outputs": [],
   "source": []
  },
  {
   "cell_type": "markdown",
   "id": "fa211472",
   "metadata": {},
   "source": [
    "## Flow of Control\n",
    "* A crucial aspect to programming is the order in which operations are executed (flow of control).\n",
    "* The vast majority of languages (Python included) dictate that statements are to be executed one by one in sequential order.\n",
    "    * The Python standard is that statements are separated by line-breaks in top-to-bottom order.\n",
    "    * Python also allows semicolons (;) to break apart multiple statements on a single line.\n",
    "* Various Python statements enable you to subvert standard flow of control. We will look at these in a later chapter. \n",
    "    "
   ]
  },
  {
   "cell_type": "code",
   "execution_count": 78,
   "id": "19328b37",
   "metadata": {},
   "outputs": [
    {
     "name": "stdin",
     "output_type": "stream",
     "text": [
      " bleh\n"
     ]
    },
    {
     "name": "stdout",
     "output_type": "stream",
     "text": [
      "bleh_world\n",
      "see, i did it\n"
     ]
    }
   ],
   "source": [
    "text1=\"hello_world\";custom=input();print(text1.replace(\"hello\",custom));print(\"see, i did it\")"
   ]
  },
  {
   "cell_type": "markdown",
   "id": "5b67536f",
   "metadata": {},
   "source": [
    "## Practice 6\n",
    "Diagnosing the errors: The code in the first cell below consists of multiple errors.\n",
    "1. Using Markdown in the second cell below, identify each error and its category (logical, run-time, syntax) using a numbered list\n",
    "2. In the third cell below, post a fixed version of the code."
   ]
  },
  {
   "cell_type": "code",
   "execution_count": null,
   "id": "03cd2f63",
   "metadata": {},
   "outputs": [],
   "source": [
    "product_price = 11.99; taxed_rate = 1.06 \n",
    "product_qty = input()\n",
    "subtotal = product_price * product_qty\n",
    "taxed_total = subtotal + taxed_rate\n",
    "print('The total cost of your purchase is $' str(round(taxed_total,2)))"
   ]
  },
  {
   "cell_type": "markdown",
   "id": "080da906-c953-4792-9d2c-a9df916e8edc",
   "metadata": {},
   "source": [
    "On line 2, for the quantity, you need to make the input variable into a integer or floating point number, which could be done like \"product_qty = int(input())\"\n",
    "On line 4, for the taxed total, you need to change the \"+\" to a \"*\" so that the subtotal is being multiplied by the tax rate instead of simply adding 1.06 to the subtotal\n",
    "On the final line, for the print statement, you need to add a \"+\" to between the string and the rounded taxed total"
   ]
  },
  {
   "cell_type": "code",
   "execution_count": 84,
   "id": "dcd7a81f",
   "metadata": {},
   "outputs": [
    {
     "name": "stdin",
     "output_type": "stream",
     "text": [
      " 10\n"
     ]
    },
    {
     "name": "stdout",
     "output_type": "stream",
     "text": [
      "The total cost of your purchase is $127.09\n"
     ]
    }
   ],
   "source": [
    "product_price = 11.99; taxed_rate = 1.06 \n",
    "product_qty = int(input())\n",
    "subtotal = product_price * product_qty\n",
    "taxed_total = subtotal * taxed_rate\n",
    "print('The total cost of your purchase is $' + str(round(taxed_total,2)))"
   ]
  },
  {
   "cell_type": "code",
   "execution_count": null,
   "id": "c8969fe8-c63d-4cf9-8fe7-a694738b8ed1",
   "metadata": {},
   "outputs": [],
   "source": []
  }
 ],
 "metadata": {
  "kernelspec": {
   "display_name": "Python 3 (ipykernel)",
   "language": "python",
   "name": "python3"
  },
  "language_info": {
   "codemirror_mode": {
    "name": "ipython",
    "version": 3
   },
   "file_extension": ".py",
   "mimetype": "text/x-python",
   "name": "python",
   "nbconvert_exporter": "python",
   "pygments_lexer": "ipython3",
   "version": "3.12.4"
  }
 },
 "nbformat": 4,
 "nbformat_minor": 5
}
