{
 "cells": [
  {
   "cell_type": "markdown",
   "id": "2e64c117-8bdc-467c-b35a-c332f2f6d54c",
   "metadata": {},
   "source": [
    "## Programming Assignment 4\n",
    "### Truman Gilbert - 10/25/2024"
   ]
  },
  {
   "cell_type": "markdown",
   "id": "5ddbd834-13b1-4375-b613-e28b13e27ade",
   "metadata": {},
   "source": [
    "#### Task 1: A - Finding all factors"
   ]
  },
  {
   "cell_type": "code",
   "execution_count": 25,
   "id": "eaecc954-8539-4cee-be3c-53ad1673ebbe",
   "metadata": {},
   "outputs": [
    {
     "name": "stdin",
     "output_type": "stream",
     "text": [
      "input a positive int:  100\n"
     ]
    },
    {
     "name": "stdout",
     "output_type": "stream",
     "text": [
      "factors of 100:\n",
      "1 is a factor of 100\n",
      "2 is a factor of 100\n",
      "4 is a factor of 100\n",
      "5 is a factor of 100\n",
      "10 is a factor of 100\n",
      "20 is a factor of 100\n",
      "25 is a factor of 100\n",
      "50 is a factor of 100\n",
      "100 is a factor of 100\n"
     ]
    }
   ],
   "source": [
    "num = int(input(\"input a positive int: \"))\n",
    "\n",
    "print(\"factors of \"+str(num)+\":\")\n",
    "for i in range(1, num + 1):\n",
    "    if num % i == 0:\n",
    "        print(str(i)+\" is a factor of \"+str(num))"
   ]
  },
  {
   "cell_type": "markdown",
   "id": "76b90ec5-89dc-413d-b5db-9994bd187dc1",
   "metadata": {},
   "source": [
    "#### Task 1: B - Prime check"
   ]
  },
  {
   "cell_type": "code",
   "execution_count": 35,
   "id": "d9a17bc5-8e3b-4338-8efa-e9d3fb86ec4b",
   "metadata": {},
   "outputs": [
    {
     "name": "stdin",
     "output_type": "stream",
     "text": [
      "input a positive int:  15\n"
     ]
    },
    {
     "name": "stdout",
     "output_type": "stream",
     "text": [
      "15 is not a prime number.\n"
     ]
    }
   ],
   "source": [
    "new_num = int(input(\"input a positive int: \"))\n",
    "prime_check = num > 1 and all(new_num % i != 0 for i in range(2, int(new_num ** 0.5) + 1))\n",
    "\n",
    "# Print whether the number is prime\n",
    "if prime_check == True:\n",
    "    print(str(new_num)+\" is a prime number.\")\n",
    "else:\n",
    "    print(str(new_num)+\" is not a prime number.\")\n"
   ]
  },
  {
   "cell_type": "markdown",
   "id": "b1aba9ca-95b6-4f6f-b8d9-579c35042b4c",
   "metadata": {},
   "source": [
    "#### Task 2: Language Translator"
   ]
  },
  {
   "cell_type": "code",
   "execution_count": 44,
   "id": "7e469a88-618f-4204-9a83-3e60d7ecfc1a",
   "metadata": {},
   "outputs": [
    {
     "name": "stdin",
     "output_type": "stream",
     "text": [
      "type a word to translate from english to spanish (hit enter to stop):  hello\n"
     ]
    },
    {
     "name": "stdout",
     "output_type": "stream",
     "text": [
      "The Irish word for hello is HOLA\n"
     ]
    },
    {
     "name": "stdin",
     "output_type": "stream",
     "text": [
      "type a word to translate from english to spanish (hit enter to stop):  \n"
     ]
    }
   ],
   "source": [
    "translation = {\n",
    "    \"hello\": \"hola\",\n",
    "    \"goodbye\": \"adiós\",\n",
    "    \"what\": \"qué\",\n",
    "    \"table\": \"mesa\",\n",
    "    \"chair\": \"silla\",\n",
    "    \"jacket\": \"chaqueta\",\n",
    "    \"brother\": \"hermano\",\n",
    "    \"sister\": \"hermana\",\n",
    "    \"school\": \"escuela\",\n",
    "    \"dead\": \"muerto\",\n",
    "}\n",
    "\n",
    "while True:\n",
    "    word = input(\"type a word to translate from english to spanish (hit enter to stop): \").lower()\n",
    "    if word == \"\":\n",
    "        break\n",
    "    elif word in translations:\n",
    "        print(\"The spanish word for \" +word+\" is \"+translation[word].())\n",
    "    else:\n",
    "        print(\"The spanish word for \"+word+\"is not in this dictionary.\")\n"
   ]
  },
  {
   "cell_type": "markdown",
   "id": "2002747b-3009-4b74-a23c-07b9e51d7cb5",
   "metadata": {},
   "source": [
    "#### Task 3: Temperature Stuff"
   ]
  },
  {
   "cell_type": "code",
   "execution_count": null,
   "id": "8204b1df-1467-4c67-99ce-d7d8d50fa32f",
   "metadata": {},
   "outputs": [],
   "source": []
  },
  {
   "cell_type": "code",
   "execution_count": 64,
   "id": "1fe1c18f-036c-4382-8cc7-6fd3f43b1f12",
   "metadata": {},
   "outputs": [
    {
     "name": "stdin",
     "output_type": "stream",
     "text": [
      "enter a month to get avg high and low temp in Louisville - hit enter to stop:  jan\n"
     ]
    },
    {
     "name": "stdout",
     "output_type": "stream",
     "text": [
      "given month not in list\n"
     ]
    },
    {
     "name": "stdin",
     "output_type": "stream",
     "text": [
      "enter a month to get avg high and low temp in Louisville - hit enter to stop:  january\n"
     ]
    },
    {
     "name": "stdout",
     "output_type": "stream",
     "text": [
      "the average high for Januaryis 43 and the average low is 27.\n"
     ]
    },
    {
     "name": "stdin",
     "output_type": "stream",
     "text": [
      "enter a month to get avg high and low temp in Louisville - hit enter to stop:  \n"
     ]
    }
   ],
   "source": [
    "temperatures = {\"january\": [43, 27],\"february\": [49, 30],\"march\": [59, 39],\"april\": [69, 48],\"may\": [78, 58],\"june\": [86, 67],\"july\": [89, 71],\"august\": [88, 70],\"september\": [82, 63],\"october\": [70, 50],\"november\": [58, 40],\"december\": [47, 31]}\n",
    "\n",
    "while True:\n",
    "    month = input(\"enter a month to get avg high and low temp in Louisville - hit enter to stop: \").lower()\n",
    "    if month == \"\":\n",
    "        break\n",
    "    elif month in temperatures:\n",
    "        high, low = temperatures[month]\n",
    "        print(\"the average high for \"+month.capitalize()+\"is \"+str(high)+\" and the average low is \"+str(low)+\".\")\n",
    "    else:\n",
    "        print(\"given month not in list\")\n"
   ]
  },
  {
   "cell_type": "markdown",
   "id": "83c540df-c8d2-42ac-849e-38ee9399586d",
   "metadata": {},
   "source": [
    "#### Task 4: Inventory for hardware store"
   ]
  },
  {
   "cell_type": "code",
   "execution_count": 66,
   "id": "76bde52a-357b-4109-bca3-9291cf400334",
   "metadata": {},
   "outputs": [
    {
     "name": "stdout",
     "output_type": "stream",
     "text": [
      "Choose an option:\n",
      "1. Check item availability and price\n",
      "2. List items below a budget\n",
      "3. Get total quantity of items\n",
      "4. Get total inventory value\n"
     ]
    },
    {
     "name": "stdin",
     "output_type": "stream",
     "text": [
      "Enter your choice:  2\n",
      "Enter your budget:  100\n"
     ]
    },
    {
     "name": "stdout",
     "output_type": "stream",
     "text": [
      "Items within your budget:\n",
      "Hammer - $12.49\n",
      "Wrench - $7.99\n",
      "Screwdriver - $3.99\n",
      "Nailgun - $36.59\n",
      "Padlock - $5.99\n",
      "Roll_of_duct_tape - $4.95\n"
     ]
    }
   ],
   "source": [
    "inventory = {\"hammer\": [15, 12.49],\"wrench\": [20, 7.99],\"screwdriver\": [40, 3.99],\"nailgun\": [10, 36.59],\"padlock\": [25, 5.99],\"roll_of_duct_tape\": [30, 4.95]}\n",
    "\n",
    "def menu():\n",
    "    print(\"Choose an option:\")\n",
    "    print(\"1. Check item availability and price\")\n",
    "    print(\"2. List items below a budget\")\n",
    "    print(\"3. Get total quantity of items\")\n",
    "    print(\"4. Get total inventory value\")\n",
    "\n",
    "menu()\n",
    "choice = int(input(\"Enter your choice: \"))\n",
    "\n",
    "if choice == 1:\n",
    "    item = input(\"Enter the item name: \").lower()\n",
    "    if item in inventory:\n",
    "        qty, price = inventory[item]\n",
    "        print(item.capitalize()+\" - Quantity: \"+str(qty)+\", Price: $\"+str(price))\n",
    "    else:\n",
    "        print(\"Item not available.\")\n",
    "elif choice == 2:\n",
    "    budget = float(input(\"Enter your budget: \"))\n",
    "    print(\"Items within your budget:\")\n",
    "    for item, (qty, price) in inventory.items():\n",
    "        if price <= budget:\n",
    "            print(item.capitalize()+\" - $\"+str(price))\n",
    "elif choice == 3:\n",
    "    total_quantity = sum(qty for qty, price in inventory.values())\n",
    "    print(\"Total quantity of all items: \"+str(total_quantity))\n",
    "elif choice == 4:\n",
    "    total_value = sum(qty * price for qty, price in inventory.values())\n",
    "    print(\"Total inventory value: $\"+str(total_value))\n"
   ]
  },
  {
   "cell_type": "code",
   "execution_count": null,
   "id": "20f1e266-ed69-4089-a6d6-451330ca2ad6",
   "metadata": {},
   "outputs": [],
   "source": []
  }
 ],
 "metadata": {
  "kernelspec": {
   "display_name": "Python 3 (ipykernel)",
   "language": "python",
   "name": "python3"
  },
  "language_info": {
   "codemirror_mode": {
    "name": "ipython",
    "version": 3
   },
   "file_extension": ".py",
   "mimetype": "text/x-python",
   "name": "python",
   "nbconvert_exporter": "python",
   "pygments_lexer": "ipython3",
   "version": "3.12.4"
  }
 },
 "nbformat": 4,
 "nbformat_minor": 5
}
