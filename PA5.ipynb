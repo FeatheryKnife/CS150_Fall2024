{
 "cells": [
  {
   "cell_type": "markdown",
   "id": "18615c45-7c98-4083-bfa0-cd96a45c978a",
   "metadata": {},
   "source": [
    "### Activity List"
   ]
  },
  {
   "cell_type": "code",
   "execution_count": 6,
   "id": "f6e18948-e523-40eb-986e-998c1a00d035",
   "metadata": {},
   "outputs": [
    {
     "name": "stdin",
     "output_type": "stream",
     "text": [
      "Enter an activity from last Saturday (type done to stop):  bike\n",
      "Enter an activity from last Saturday (type done to stop):  dinner\n",
      "Enter an activity from last Saturday (type done to stop):  done\n",
      "Enter an activity from last Sunday (type done to stop):  sleep\n",
      "Enter an activity from last Sunday (type done to stop):  church\n",
      "Enter an activity from last Sunday (type done to stop):  dinner\n",
      "Enter an activity from last Sunday (type done to stop):  done\n"
     ]
    },
    {
     "name": "stdout",
     "output_type": "stream",
     "text": [
      "Saturday activities: {'bike', 'dinner'}\n",
      "Sunday activities: {'church', 'sleep', 'dinner'}\n",
      "activities done on both days: {'dinner'}\n",
      "activities on either day: {'church', 'sleep', 'bike', 'dinner'}\n"
     ]
    }
   ],
   "source": [
    "actSat = set()\n",
    "actSun = set()\n",
    "\n",
    "while True:\n",
    "    activity = input(\"Enter an activity from last Saturday (type done to stop): \")\n",
    "    if activity.lower() == \"done\":\n",
    "        break\n",
    "    actSat.add(activity)\n",
    "\n",
    "while True:\n",
    "    activity = input(\"Enter an activity from last Sunday (type done to stop): \")\n",
    "    if activity.lower() == \"done\":\n",
    "        break\n",
    "    actSun.add(activity)\n",
    "\n",
    "print(\"Saturday activities:\", actSat)\n",
    "print(\"Sunday activities:\", actSun)\n",
    "\n",
    "print(\"activities done on both days:\", actSat & actSun)\n",
    "\n",
    "# Part E: Activities on at least one of the days\n",
    "print(\"activities on either day:\", actSat | actSun)\n"
   ]
  },
  {
   "cell_type": "markdown",
   "id": "dd1cc895-34a5-4be9-ad52-38c32cb05ca8",
   "metadata": {},
   "source": [
    "### Triangle calc"
   ]
  },
  {
   "cell_type": "code",
   "execution_count": 18,
   "id": "4cabedd0-8621-49b8-84c1-0b13ba6e6f4f",
   "metadata": {},
   "outputs": [],
   "source": [
    "import math\n",
    "\n",
    "def tri_solve(leg1, leg2):\n",
    "    hypotenuse = math.sqrt(leg1**2 + leg2**2)\n",
    "    perimeter = leg1 + leg2 + hypotenuse\n",
    "    area = 0.5 * leg1 * leg2\n",
    "    return (hypotenuse, perimeter, area)\n",
    "\n",
    "# returns in  (hypotenuse, perimeter, area) format"
   ]
  },
  {
   "cell_type": "code",
   "execution_count": 20,
   "id": "2c310264-0b79-4eae-8af2-c4c0afd2efbb",
   "metadata": {},
   "outputs": [
    {
     "name": "stdout",
     "output_type": "stream",
     "text": [
      "Triangle results in hypotenuse, perimeter, area formatt: (5.0, 12.0, 6.0)\n"
     ]
    }
   ],
   "source": [
    "# testing function\n",
    "result = tri_solve(3, 4)\n",
    "print(\"Triangle results in hypotenuse, perimeter, area formatt:\", result)"
   ]
  },
  {
   "cell_type": "markdown",
   "id": "6a226840-20a2-4c0c-b7b8-5e6a10cd6319",
   "metadata": {},
   "source": [
    "### Calculator class"
   ]
  },
  {
   "cell_type": "code",
   "execution_count": 23,
   "id": "33b57915-00c3-4491-a4f1-6227d2d82fa5",
   "metadata": {},
   "outputs": [],
   "source": [
    "class Calculator:\n",
    "    def __init__(self):\n",
    "        self.prev_result = None\n",
    "        self.total_calculations = 0\n",
    "\n",
    "    def add(self, a, b):\n",
    "        self.prev_result = a + b\n",
    "        self.total_calculations += 1\n",
    "        return self.prev_result\n",
    "\n",
    "    def subtract(self, a, b):\n",
    "        self.prev_result = a - b\n",
    "        self.total_calculations += 1\n",
    "        return self.prev_result\n",
    "\n",
    "    def multiply(self, a, b):\n",
    "        self.prev_result = a * b\n",
    "        self.total_calculations += 1\n",
    "        return self.prev_result\n",
    "\n",
    "    def divide(self, a, b):\n",
    "        if b == 0:\n",
    "            raise ValueError(\"Cannot divide by zero\")\n",
    "        self.prev_result = a / b\n",
    "        self.total_calculations += 1\n",
    "        return self.prev_result\n",
    "\n",
    "    def power(self, a, b):\n",
    "        self.prev_result = a ** b\n",
    "        self.total_calculations += 1\n",
    "        return self.prev_result\n",
    "\n",
    "    def info(self):\n",
    "        print(f\"Previous Result: {self.prev_result}\")\n",
    "        print(f\"Total Calculations: {self.total_calculations}\")\n"
   ]
  },
  {
   "cell_type": "code",
   "execution_count": 25,
   "id": "f4b2a35a-5f44-4974-b409-a686a9c30ac3",
   "metadata": {},
   "outputs": [
    {
     "name": "stdout",
     "output_type": "stream",
     "text": [
      "Add: 8\n",
      "Subtract: 7\n",
      "Multiply: 8\n",
      "Divide: 3.0\n",
      "Power: 8\n",
      "Previous Result: 8\n",
      "Total Calculations: 5\n"
     ]
    }
   ],
   "source": [
    "# testing calss functions\n",
    "calc = Calculator()\n",
    "print(\"Add:\", calc.add(5, 3))\n",
    "print(\"Subtract:\", calc.subtract(10, 3))\n",
    "print(\"Multiply:\", calc.multiply(4, 2))\n",
    "print(\"Divide:\", calc.divide(9, 3))\n",
    "print(\"Power:\", calc.power(2, 3))\n",
    "calc.info()\n"
   ]
  },
  {
   "cell_type": "code",
   "execution_count": null,
   "id": "c60c0686-6e0b-4559-8cbc-fb388e17fa54",
   "metadata": {},
   "outputs": [],
   "source": []
  }
 ],
 "metadata": {
  "kernelspec": {
   "display_name": "Python 3 (ipykernel)",
   "language": "python",
   "name": "python3"
  },
  "language_info": {
   "codemirror_mode": {
    "name": "ipython",
    "version": 3
   },
   "file_extension": ".py",
   "mimetype": "text/x-python",
   "name": "python",
   "nbconvert_exporter": "python",
   "pygments_lexer": "ipython3",
   "version": "3.12.4"
  }
 },
 "nbformat": 4,
 "nbformat_minor": 5
}
